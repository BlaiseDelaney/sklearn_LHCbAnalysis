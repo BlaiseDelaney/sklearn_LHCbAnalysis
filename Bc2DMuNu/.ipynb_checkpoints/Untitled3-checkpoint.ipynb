{
 "cells": [
  {
   "cell_type": "code",
   "execution_count": 3,
   "metadata": {
    "collapsed": false
   },
   "outputs": [],
   "source": [
    "%matplotlib inline\n",
    "import ROOT\n",
    "\n",
    "from root_numpy import tree2array, root2array, rec2array\n",
    "import numpy as np\n",
    "\n",
    "\n",
    "from sklearn.model_selection import train_test_split, GridSearchCV\n",
    "from sklearn.tree import DecisionTreeClassifier\n",
    "from sklearn.ensemble import AdaBoostClassifier\n",
    "from sklearn.ensemble import GradientBoostingClassifier\n",
    "from sklearn.metrics import classification_report, roc_auc_score\n",
    "from sklearn.neural_network import MLPClassifier\n",
    "\n",
    "import matplotlib as mpl\n",
    "import matplotlib.pyplot as plt\n",
    "import pandas as pd\n",
    "import pandas.core.common as com\n",
    "from pandas.core.index import Index\n",
    "from pandas.tools import plotting\n"
   ]
  },
  {
   "cell_type": "code",
   "execution_count": 129,
   "metadata": {
    "collapsed": false
   },
   "outputs": [
    {
     "name": "stdout",
     "output_type": "stream",
     "text": [
      "\n",
      "--- Selected 856106 entries to read in from MC ---\n",
      "\n",
      "--- 16279 signal events and 839827 bkg events ---\n",
      "\n"
     ]
    }
   ],
   "source": [
    "#convert skimmed MC trees to numpy arrays\n",
    "MCdir = '/var/pcfst/r01/lhcb/delaney/Analysis/LHCbAnalysis/Bc2Dmunu/sub_jobs_MC_SB/'\n",
    "BkgMC='MCBu2DMuNu.root'\n",
    "SigMC='MCBc2DMuNu.root'\n",
    "\n",
    "bkgFile = ROOT.TFile(MCdir+BkgMC)\n",
    "sigFile = ROOT.TFile(MCdir+SigMC)\n",
    "\n",
    "bkgTree = bkgFile.Get('AnalysisTree')\n",
    "sigTree = sigFile.Get('AnalysisTree')\n",
    "\n",
    "\n",
    "#eventually load one tree and include itype selection\n",
    "Sevtmax=-1\n",
    "Bevtmax=-1\n",
    "\n",
    "\n",
    "#should rename with string manipulation\n",
    "#'B_plus_MCORRERR/B_plus_MCORR' bdt output correlated with MCORR\n",
    "branches=['TMath::Log(B_plus_PT)', \n",
    "'TMath::Log(B_plus_IPCHI2_OWNPV)', 'TMath::ACos(B_plus_DIRA_OWNPV)', 'B_plus_LTIME', 'TMath::Log(D0_PT)','TMath::Log(D0_IPCHI2_OWNPV)',\n",
    "'TMath::Log(Mu_plus_PT)', 'TMath::Log(Mu_plus_MIPCHI2PV)'] \n",
    "\n",
    "sigArray = tree2array(sigTree, branches, selection='B_plus_LTIME>0', start=0, stop=Sevtmax) \n",
    "sig=rec2array(sigArray)\n",
    "\n",
    "bkgArray = tree2array(bkgTree, branches, selection='B_plus_LTIME>0', start=0, stop=Bevtmax) \n",
    "bkg=rec2array(bkgArray)\n",
    "\n",
    "\n",
    "print '\\n--- Selected %i entries to read in from MC ---\\n'%(len(sig)+len(bkg))\n",
    "print '--- %s signal events and %s bkg events ---\\n'%(len(sig),len(bkg))\n",
    "\n",
    "\n",
    "#scikit learn requires 2D array (n_samples, n_features)\n",
    "X = np.concatenate((sig, bkg))\n",
    "y = np.concatenate((np.ones(sig.shape[0]),\n",
    "                    np.zeros(bkg.shape[0])))\n",
    "\n",
    "#sig = 2% of bkg (-1 case)"
   ]
  },
  {
   "cell_type": "code",
   "execution_count": 130,
   "metadata": {
    "collapsed": true
   },
   "outputs": [],
   "source": [
    "X_dev,X_eval, y_dev,y_eval = train_test_split(X, y, test_size=.4, random_state=23)\n",
    "X_train,X_test, y_train,y_test = train_test_split(X_dev, y_dev, test_size=0.4, random_state=199)"
   ]
  },
  {
   "cell_type": "code",
   "execution_count": 20,
   "metadata": {
    "collapsed": true
   },
   "outputs": [],
   "source": [
    "results = {}\n",
    "\n",
    "def optimize_performance(clf, pars):\n",
    "    \n",
    "    def grid_search(clf, pars):\n",
    "        \n",
    "        grid = GridSearchCV(clf, \n",
    "                            param_grid=pars, \n",
    "                            n_jobs=-1, \n",
    "                            scoring='roc_auc',\n",
    "                            cv=3)\n",
    "        grid.fit(X_dev, y_dev)\n",
    "        return grid\n",
    "\n",
    "    grid=grid_search(clf, pars)\n",
    "     \n",
    "    print \"Best parameter set found on development set:\"\n",
    "    print\n",
    "    print grid.best_estimator_\n",
    "    print\n",
    "    print \"Grid scores on a subset of the development set:\"\n",
    "    print\n",
    "    for params, mean_score, scores in grid.grid_scores_:\n",
    "        print \"%0.4f (+/-%0.04f) for %r\"%(mean_score, scores.std(), params)\n",
    "    print\n",
    "    print \"With the model trained on the full development set:\"\n",
    "\n",
    "    y_true, y_pred = y_dev, grid.decision_function(X_dev)\n",
    "    print \"  It scores %0.4f on the full development set\"%roc_auc_score(y_true, y_pred)\n",
    "    y_true, y_pred = y_eval, grid.decision_function(X_eval)\n",
    "    print \"  It scores %0.4f on the full evaluation set\"%roc_auc_score(y_true, y_pred)\n",
    "  \n",
    "\n",
    "    #return grid.best_score_, grid.best_estimator_\n",
    "    results[grid.best_estimator_] = grid.best_score_\n",
    "    #clf = sorted(results.iteritems(), key=lambda (k,v): (v,k), reverse=True)[0][0]\n",
    "    \n",
    "    return grid.best_estimator_\n"
   ]
  },
  {
   "cell_type": "code",
   "execution_count": 21,
   "metadata": {
    "collapsed": true
   },
   "outputs": [],
   "source": [
    "dt = DecisionTreeClassifier(max_depth=3) #if max_depth=None, nodes expanded until leaves are pure\n",
    "bdt = AdaBoostClassifier(base_estimator=dt)\n"
   ]
  },
  {
   "cell_type": "code",
   "execution_count": 22,
   "metadata": {
    "collapsed": false
   },
   "outputs": [
    {
     "name": "stdout",
     "output_type": "stream",
     "text": [
      " ##### AdaBoostClassifier(algorithm='SAMME.R',\n",
      "          base_estimator=DecisionTreeClassifier(class_weight=None, criterion='gini', max_depth=3,\n",
      "            max_features=None, max_leaf_nodes=None,\n",
      "            min_impurity_split=1e-07, min_samples_leaf=1,\n",
      "            min_samples_split=2, min_weight_fraction_leaf=0.0,\n",
      "            presort=False, random_state=None, splitter='best'),\n",
      "          learning_rate=1.0, n_estimators=50, random_state=None) #####\n",
      "Best parameter set found on development set:\n",
      "\n",
      "AdaBoostClassifier(algorithm='SAMME.R',\n",
      "          base_estimator=DecisionTreeClassifier(class_weight=None, criterion='gini', max_depth=3,\n",
      "            max_features=None, max_leaf_nodes=None,\n",
      "            min_impurity_split=1e-07, min_samples_leaf=1,\n",
      "            min_samples_split=2, min_weight_fraction_leaf=0.0,\n",
      "            presort=False, random_state=None, splitter='best'),\n",
      "          learning_rate=0.5, n_estimators=200, random_state=None)\n",
      "\n",
      "Grid scores on a subset of the development set:\n",
      "\n",
      "0.8163 (+/-0.0014) for {'n_estimators': 10, 'learning_rate': 0.1}\n",
      "0.8313 (+/-0.0007) for {'n_estimators': 30, 'learning_rate': 0.1}\n",
      "0.8448 (+/-0.0009) for {'n_estimators': 50, 'learning_rate': 0.1}\n",
      "0.8589 (+/-0.0006) for {'n_estimators': 100, 'learning_rate': 0.1}\n",
      "0.8736 (+/-0.0004) for {'n_estimators': 200, 'learning_rate': 0.1}\n",
      "0.8834 (+/-0.0009) for {'n_estimators': 500, 'learning_rate': 0.1}\n",
      "0.8850 (+/-0.0014) for {'n_estimators': 800, 'learning_rate': 0.1}\n",
      "0.8845 (+/-0.0023) for {'n_estimators': 1000, 'learning_rate': 0.1}\n",
      "0.8239 (+/-0.0017) for {'n_estimators': 10, 'learning_rate': 0.2}\n",
      "0.8486 (+/-0.0006) for {'n_estimators': 30, 'learning_rate': 0.2}\n",
      "0.8602 (+/-0.0013) for {'n_estimators': 50, 'learning_rate': 0.2}\n",
      "0.8728 (+/-0.0008) for {'n_estimators': 100, 'learning_rate': 0.2}\n",
      "0.8829 (+/-0.0036) for {'n_estimators': 200, 'learning_rate': 0.2}\n",
      "0.8846 (+/-0.0011) for {'n_estimators': 500, 'learning_rate': 0.2}\n",
      "0.8779 (+/-0.0004) for {'n_estimators': 800, 'learning_rate': 0.2}\n",
      "0.8768 (+/-0.0027) for {'n_estimators': 1000, 'learning_rate': 0.2}\n",
      "0.8428 (+/-0.0001) for {'n_estimators': 10, 'learning_rate': 0.5}\n",
      "0.8662 (+/-0.0004) for {'n_estimators': 30, 'learning_rate': 0.5}\n",
      "0.8756 (+/-0.0017) for {'n_estimators': 50, 'learning_rate': 0.5}\n",
      "0.8838 (+/-0.0027) for {'n_estimators': 100, 'learning_rate': 0.5}\n",
      "0.8884 (+/-0.0026) for {'n_estimators': 200, 'learning_rate': 0.5}\n",
      "0.8815 (+/-0.0011) for {'n_estimators': 500, 'learning_rate': 0.5}\n",
      "0.8685 (+/-0.0022) for {'n_estimators': 800, 'learning_rate': 0.5}\n",
      "0.8657 (+/-0.0015) for {'n_estimators': 1000, 'learning_rate': 0.5}\n",
      "\n",
      "With the model trained on the full development set:\n"
     ]
    },
    {
     "name": "stderr",
     "output_type": "stream",
     "text": [
      "/cvmfs/sft.cern.ch/lcg/views/LCG_92/x86_64-slc6-gcc62-opt/lib/python2.7/site-packages/sklearn/model_selection/_search.py:667: DeprecationWarning: The grid_scores_ attribute was deprecated in version 0.18 in favor of the more elaborate cv_results_ attribute. The grid_scores_ attribute will not be available from 0.20\n",
      "  DeprecationWarning)\n"
     ]
    },
    {
     "name": "stdout",
     "output_type": "stream",
     "text": [
      "  It scores 0.9358 on the full development set\n",
      "  It scores 0.9004 on the full evaluation set\n"
     ]
    }
   ],
   "source": [
    "bdt_param_grid ={'n_estimators': [10, 30, 50,100, 200, 500, 800, 1000],\n",
    "                 'learning_rate': [.1, .2, .5]}\n",
    "\n",
    "bdt = optimize_performance(bdt, bdt_param_grid)\n"
   ]
  },
  {
   "cell_type": "code",
   "execution_count": 23,
   "metadata": {
    "collapsed": false
   },
   "outputs": [
    {
     "name": "stdout",
     "output_type": "stream",
     "text": [
      "             precision    recall  f1-score   support\n",
      "\n",
      " background       0.98      1.00      0.99    201613\n",
      "     signal       0.84      0.12      0.21      3853\n",
      "\n",
      "avg / total       0.98      0.98      0.98    205466\n",
      "\n",
      "Area under ROC curve: 0.8748\n"
     ]
    }
   ],
   "source": [
    "#fit data and evaluate performance\n",
    "bdt.fit(X_train, y_train)\n",
    "bdty_predicted = bdt.predict(X_test)\n",
    "print classification_report(y_test, bdty_predicted,\n",
    "                                    target_names=[\"background\", \"signal\"])\n",
    "print \"Area under ROC curve: %.4f\"%(roc_auc_score(y_test, bdt.decision_function(X_test)))\n"
   ]
  },
  {
   "cell_type": "code",
   "execution_count": 35,
   "metadata": {
    "collapsed": false
   },
   "outputs": [
    {
     "name": "stdout",
     "output_type": "stream",
     "text": [
      "learn 0.500000, depth 3.000000\n"
     ]
    },
    {
     "ename": "KeyboardInterrupt",
     "evalue": "",
     "output_type": "error",
     "traceback": [
      "\u001b[0;31m\u001b[0m",
      "\u001b[0;31mKeyboardInterrupt\u001b[0mTraceback (most recent call last)",
      "\u001b[0;32m<ipython-input-35-ab1a55d35b1a>\u001b[0m in \u001b[0;36m<module>\u001b[0;34m()\u001b[0m\n\u001b[1;32m      8\u001b[0m     \u001b[0mcdt\u001b[0m \u001b[0;34m=\u001b[0m \u001b[0mDecisionTreeClassifier\u001b[0m\u001b[0;34m(\u001b[0m\u001b[0mmax_depth\u001b[0m\u001b[0;34m=\u001b[0m\u001b[0mdepth\u001b[0m\u001b[0;34m)\u001b[0m\u001b[0;34m\u001b[0m\u001b[0m\n\u001b[1;32m      9\u001b[0m     \u001b[0mclf\u001b[0m \u001b[0;34m=\u001b[0m \u001b[0mAdaBoostClassifier\u001b[0m\u001b[0;34m(\u001b[0m\u001b[0mbase_estimator\u001b[0m\u001b[0;34m=\u001b[0m\u001b[0mcdt\u001b[0m\u001b[0;34m,\u001b[0m \u001b[0mlearning_rate\u001b[0m\u001b[0;34m=\u001b[0m\u001b[0mlearn\u001b[0m\u001b[0;34m,\u001b[0m \u001b[0mn_estimators\u001b[0m\u001b[0;34m=\u001b[0m\u001b[0;36m1000\u001b[0m\u001b[0;34m)\u001b[0m\u001b[0;34m\u001b[0m\u001b[0m\n\u001b[0;32m---> 10\u001b[0;31m     \u001b[0mclf\u001b[0m\u001b[0;34m.\u001b[0m\u001b[0mfit\u001b[0m\u001b[0;34m(\u001b[0m\u001b[0mX_train\u001b[0m\u001b[0;34m,\u001b[0m \u001b[0my_train\u001b[0m\u001b[0;34m)\u001b[0m \u001b[0;31m#train\u001b[0m\u001b[0;34m\u001b[0m\u001b[0m\n\u001b[0m\u001b[1;32m     11\u001b[0m     \u001b[0mclfs\u001b[0m\u001b[0;34m.\u001b[0m\u001b[0mappend\u001b[0m\u001b[0;34m(\u001b[0m\u001b[0mclf\u001b[0m\u001b[0;34m)\u001b[0m\u001b[0;34m\u001b[0m\u001b[0m\n\u001b[1;32m     12\u001b[0m \u001b[0;34m\u001b[0m\u001b[0m\n",
      "\u001b[0;32m/cvmfs/sft.cern.ch/lcg/views/LCG_92/x86_64-slc6-gcc62-opt/lib/python2.7/site-packages/sklearn/ensemble/weight_boosting.pyc\u001b[0m in \u001b[0;36mfit\u001b[0;34m(self, X, y, sample_weight)\u001b[0m\n\u001b[1;32m    409\u001b[0m \u001b[0;34m\u001b[0m\u001b[0m\n\u001b[1;32m    410\u001b[0m         \u001b[0;31m# Fit\u001b[0m\u001b[0;34m\u001b[0m\u001b[0;34m\u001b[0m\u001b[0m\n\u001b[0;32m--> 411\u001b[0;31m         \u001b[0;32mreturn\u001b[0m \u001b[0msuper\u001b[0m\u001b[0;34m(\u001b[0m\u001b[0mAdaBoostClassifier\u001b[0m\u001b[0;34m,\u001b[0m \u001b[0mself\u001b[0m\u001b[0;34m)\u001b[0m\u001b[0;34m.\u001b[0m\u001b[0mfit\u001b[0m\u001b[0;34m(\u001b[0m\u001b[0mX\u001b[0m\u001b[0;34m,\u001b[0m \u001b[0my\u001b[0m\u001b[0;34m,\u001b[0m \u001b[0msample_weight\u001b[0m\u001b[0;34m)\u001b[0m\u001b[0;34m\u001b[0m\u001b[0m\n\u001b[0m\u001b[1;32m    412\u001b[0m \u001b[0;34m\u001b[0m\u001b[0m\n\u001b[1;32m    413\u001b[0m     \u001b[0;32mdef\u001b[0m \u001b[0m_validate_estimator\u001b[0m\u001b[0;34m(\u001b[0m\u001b[0mself\u001b[0m\u001b[0;34m)\u001b[0m\u001b[0;34m:\u001b[0m\u001b[0;34m\u001b[0m\u001b[0m\n",
      "\u001b[0;32m/cvmfs/sft.cern.ch/lcg/views/LCG_92/x86_64-slc6-gcc62-opt/lib/python2.7/site-packages/sklearn/ensemble/weight_boosting.pyc\u001b[0m in \u001b[0;36mfit\u001b[0;34m(self, X, y, sample_weight)\u001b[0m\n\u001b[1;32m    141\u001b[0m                 \u001b[0mX\u001b[0m\u001b[0;34m,\u001b[0m \u001b[0my\u001b[0m\u001b[0;34m,\u001b[0m\u001b[0;34m\u001b[0m\u001b[0m\n\u001b[1;32m    142\u001b[0m                 \u001b[0msample_weight\u001b[0m\u001b[0;34m,\u001b[0m\u001b[0;34m\u001b[0m\u001b[0m\n\u001b[0;32m--> 143\u001b[0;31m                 random_state)\n\u001b[0m\u001b[1;32m    144\u001b[0m \u001b[0;34m\u001b[0m\u001b[0m\n\u001b[1;32m    145\u001b[0m             \u001b[0;31m# Early termination\u001b[0m\u001b[0;34m\u001b[0m\u001b[0;34m\u001b[0m\u001b[0m\n",
      "\u001b[0;32m/cvmfs/sft.cern.ch/lcg/views/LCG_92/x86_64-slc6-gcc62-opt/lib/python2.7/site-packages/sklearn/ensemble/weight_boosting.pyc\u001b[0m in \u001b[0;36m_boost\u001b[0;34m(self, iboost, X, y, sample_weight, random_state)\u001b[0m\n\u001b[1;32m    469\u001b[0m         \"\"\"\n\u001b[1;32m    470\u001b[0m         \u001b[0;32mif\u001b[0m \u001b[0mself\u001b[0m\u001b[0;34m.\u001b[0m\u001b[0malgorithm\u001b[0m \u001b[0;34m==\u001b[0m \u001b[0;34m'SAMME.R'\u001b[0m\u001b[0;34m:\u001b[0m\u001b[0;34m\u001b[0m\u001b[0m\n\u001b[0;32m--> 471\u001b[0;31m             \u001b[0;32mreturn\u001b[0m \u001b[0mself\u001b[0m\u001b[0;34m.\u001b[0m\u001b[0m_boost_real\u001b[0m\u001b[0;34m(\u001b[0m\u001b[0miboost\u001b[0m\u001b[0;34m,\u001b[0m \u001b[0mX\u001b[0m\u001b[0;34m,\u001b[0m \u001b[0my\u001b[0m\u001b[0;34m,\u001b[0m \u001b[0msample_weight\u001b[0m\u001b[0;34m,\u001b[0m \u001b[0mrandom_state\u001b[0m\u001b[0;34m)\u001b[0m\u001b[0;34m\u001b[0m\u001b[0m\n\u001b[0m\u001b[1;32m    472\u001b[0m \u001b[0;34m\u001b[0m\u001b[0m\n\u001b[1;32m    473\u001b[0m         \u001b[0;32melse\u001b[0m\u001b[0;34m:\u001b[0m  \u001b[0;31m# elif self.algorithm == \"SAMME\":\u001b[0m\u001b[0;34m\u001b[0m\u001b[0m\n",
      "\u001b[0;32m/cvmfs/sft.cern.ch/lcg/views/LCG_92/x86_64-slc6-gcc62-opt/lib/python2.7/site-packages/sklearn/ensemble/weight_boosting.pyc\u001b[0m in \u001b[0;36m_boost_real\u001b[0;34m(self, iboost, X, y, sample_weight, random_state)\u001b[0m\n\u001b[1;32m    522\u001b[0m         estimator_weight = (-1. * self.learning_rate\n\u001b[1;32m    523\u001b[0m                                 * (((n_classes - 1.) / n_classes) *\n\u001b[0;32m--> 524\u001b[0;31m                                    inner1d(y_coding, np.log(y_predict_proba))))\n\u001b[0m\u001b[1;32m    525\u001b[0m \u001b[0;34m\u001b[0m\u001b[0m\n\u001b[1;32m    526\u001b[0m         \u001b[0;31m# Only boost the weights if it will fit again\u001b[0m\u001b[0;34m\u001b[0m\u001b[0;34m\u001b[0m\u001b[0m\n",
      "\u001b[0;31mKeyboardInterrupt\u001b[0m: "
     ]
    }
   ],
   "source": [
    "clfs=[]\n",
    "\n",
    "params = ((.5,3), (.5,5), (.5, 7),\n",
    "          (.2,3), (.2,5), (.2, 7))\n",
    "\n",
    "for learn, depth in params:\n",
    "    print 'learn %f, depth %f'%(learn, depth)\n",
    "    cdt = DecisionTreeClassifier(max_depth=depth) \n",
    "    clf = AdaBoostClassifier(base_estimator=cdt, learning_rate=learn, n_estimators=1000)\n",
    "    clf.fit(X_train, y_train) #train\n",
    "    clfs.append(clf)\n",
    "\n",
    "\n",
    "def validation_curve(clfs, train, test):\n",
    "    plt.figure()\n",
    "    X_test, y_test = test\n",
    "    X_train, y_train = train\n",
    "    \n",
    "    for n,clf in enumerate(clfs):\n",
    "        print 'Added BDT with decision tree base classifier: %s\\n'%clf\n",
    "        \n",
    "        #for every estimator save train and test score\n",
    "        test_score = np.empty(len(clf.estimators_))\n",
    "        train_score = np.empty(len(clf.estimators_))\n",
    "##\n",
    "##        #compute the score at every iteration\n",
    "        for i, pred in enumerate(clf.staged_decision_function(X_test)):\n",
    "            test_score[i] = 1- roc_auc_score(y_test, pred)\n",
    "##\n",
    "        for i, pred in enumerate(clf.staged_decision_function(X_train)):\n",
    "            train_score[i] = 1-roc_auc_score(y_train, pred)\n",
    "#         \n",
    "##\n",
    "##        #plot vertical line at best score location\n",
    "##        \n",
    "        best_iter = np.argmin(test_score)\n",
    "        print '-------- best iteration at %s for %s'%(best_iter, clf)\n",
    "        learn = clf.get_params()['learning_rate']\n",
    "        depth = clf.base_estimator.get_params()['max_depth']\n",
    "##        \n",
    "        test_line = plt.plot(\n",
    "                    test_score,\n",
    "                    label='learn=%.1f depth=%i (%.2f)'%(learn,depth, test_score[best_iter])\n",
    "                            )\n",
    "##        \n",
    "        colour = test_line[-1].get_color()\n",
    "        plt.plot(train_score, '--', color=colour)\n",
    "##        \n",
    "        plt.xlabel(\"Number of boosting iterations\")\n",
    "        plt.ylabel(\"1 - area under ROC\")\n",
    "        plt.axvline(x=best_iter, color=colour)\n",
    "##        \n",
    "    plt.legend(loc='best')\n",
    "    plt.savefig('FULLSAMPLEvalidation.pdf')\n",
    "##    plt.savefig('Plots/validation.pdf')\n",
    "##\n",
    "##\n",
    "validation_curve(clfs,\n",
    "                 (X_train,y_train),\n",
    "                 (X_test,y_test))\n"
   ]
  },
  {
   "cell_type": "code",
   "execution_count": 61,
   "metadata": {
    "collapsed": false
   },
   "outputs": [
    {
     "data": {
      "image/png": "[encoded data removed]",
      "text/plain": [
       "<matplotlib.figure.Figure at 0x7f5008ec2690>"
      ]
     },
     "metadata": {},
     "output_type": "display_data"
    }
   ],
   "source": [
    "def compare_train_test(clf, X_train, y_train, X_test, y_test, bins=50):\n",
    "    decisions = []\n",
    "    for X,y in ((X_train, y_train), (X_test, y_test)):\n",
    "        d1 = clf.decision_function(X[y>0.5]).ravel()\n",
    "        d2 = clf.decision_function(X[y<0.5]).ravel()\n",
    "        decisions += [d1, d2]\n",
    "        \n",
    "    low = min(np.min(d) for d in decisions)\n",
    "    high = max(np.max(d) for d in decisions)\n",
    "    low_high = (low,high)\n",
    "    \n",
    "    plt.hist(decisions[0],\n",
    "             color='r', alpha=0.5, range=low_high, bins=bins,\n",
    "             histtype='stepfilled', normed=True,\n",
    "             label='S (train)')\n",
    "    plt.hist(decisions[1],\n",
    "             color='b', alpha=0.5, range=low_high, bins=bins,\n",
    "             histtype='stepfilled', normed=True,\n",
    "             label='B (train)')\n",
    "\n",
    "    hist, bins = np.histogram(decisions[2],\n",
    "                              bins=bins, range=low_high, normed=True)\n",
    "    scale = len(decisions[2]) / sum(hist)\n",
    "    err = np.sqrt(hist * scale) / scale\n",
    "    \n",
    "    width = (bins[1] - bins[0])\n",
    "    center = (bins[:-1] + bins[1:]) / 2\n",
    "    plt.errorbar(center, hist, yerr=err, fmt='o', c='r', label='S (test)')\n",
    "    \n",
    "    hist, bins = np.histogram(decisions[3],\n",
    "                              bins=bins, range=low_high, normed=True)\n",
    "    scale = len(decisions[2]) / sum(hist)\n",
    "    err = np.sqrt(hist * scale) / scale\n",
    "\n",
    "    plt.errorbar(center, hist, yerr=err, fmt='o', c='b', label='B (test)')\n",
    "\n",
    "    plt.xlabel(\"BDT output\")\n",
    "    plt.ylabel(\"Arbitrary units\")\n",
    "    plt.legend(loc='best')\n",
    "    plt.savefig('FULLSAMPLE_novalidation_bdtoutput.pdf')\n",
    "\n",
    "compare_train_test(bdt, X_train, y_train, X_test, y_test)"
   ]
  },
  {
   "cell_type": "code",
   "execution_count": 34,
   "metadata": {
    "collapsed": false
   },
   "outputs": [
    {
     "data": {
      "text/plain": [
       "Text(0.5,1,u'Decision Scores')"
      ]
     },
     "execution_count": 34,
     "metadata": {},
     "output_type": "execute_result"
    },
    {
     "data": {
      "image/png": "[encoded data removed]",
      "text/plain": [
       "<matplotlib.figure.Figure at 0x7f50020d7ad0>"
      ]
     },
     "metadata": {},
     "output_type": "display_data"
    }
   ],
   "source": [
    "plot_colors = \"br\"\n",
    "plot_step = 0.02\n",
    "class_names = \"AB\"\n",
    "\n",
    "# Plot the two-class decision scores\n",
    "twoclass_output = bdt.decision_function(X)\n",
    "plot_range = (twoclass_output.min(), twoclass_output.max())\n",
    "plt.subplot(122)\n",
    "for i, n, c in zip(range(2), class_names, plot_colors):\n",
    "    plt.hist(twoclass_output[y == i],\n",
    "             bins=10,\n",
    "             range=plot_range,\n",
    "             facecolor=c,\n",
    "             label='Class %s' % n,\n",
    "             alpha=.5,\n",
    "             edgecolor='k')\n",
    "x1, x2, y1, y2 = plt.axis()\n",
    "plt.axis((x1, x2, y1, y2 * 1.2))\n",
    "plt.legend(loc='upper right')\n",
    "plt.ylabel('Samples')\n",
    "plt.xlabel('Score')\n",
    "plt.title('Decision Scores')"
   ]
  },
  {
   "cell_type": "code",
   "execution_count": 135,
   "metadata": {
    "collapsed": false
   },
   "outputs": [
    {
     "name": "stdout",
     "output_type": "stream",
     "text": [
      "\n",
      "--- Selected 31993 entries to read in from MC ---\n",
      "\n",
      "--- 16000 signal events and 15993 bkg events ---\n",
      "\n",
      "X (31993, 8)\n",
      "Dev (19195, 8) (19195,)\n",
      "Eval (12798, 8) (12798,)\n",
      "Train (11517, 8) (11517,)\n",
      "Test (7678, 8) (7678,)\n"
     ]
    }
   ],
   "source": [
    "#convert skimmed MC trees to numpy arrays\n",
    "MCdir = '/var/pcfst/r01/lhcb/delaney/Analysis/LHCbAnalysis/Bc2Dmunu/sub_jobs_MC_SB/'\n",
    "BkgMC='MCBu2DMuNu.root'\n",
    "SigMC='MCBc2DMuNu.root'\n",
    "\n",
    "bkgFile = ROOT.TFile(MCdir+BkgMC)\n",
    "sigFile = ROOT.TFile(MCdir+SigMC)\n",
    "\n",
    "bkgTree = bkgFile.Get('AnalysisTree')\n",
    "sigTree = sigFile.Get('AnalysisTree')\n",
    "\n",
    "\n",
    "#eventually load one tree and include itype selection\n",
    "Sevtmax=16000\n",
    "Bevtmax=16000\n",
    "\n",
    "\n",
    "#should rename with string manipulation\n",
    "#'B_plus_MCORRERR/B_plus_MCORR' bdt output correlated with MCORR\n",
    "branches=['TMath::Log(B_plus_PT)', \n",
    "'TMath::Log(B_plus_IPCHI2_OWNPV)', 'TMath::ACos(B_plus_DIRA_OWNPV)', 'B_plus_LTIME', 'TMath::Log(D0_PT)','TMath::Log(D0_IPCHI2_OWNPV)',\n",
    "'TMath::Log(Mu_plus_PT)', 'TMath::Log(Mu_plus_MIPCHI2PV)'] \n",
    "\n",
    "sigArray = tree2array(sigTree, branches, selection='B_plus_LTIME>0', start=0, stop=Sevtmax) \n",
    "sig=rec2array(sigArray)\n",
    "\n",
    "bkgArray = tree2array(bkgTree, branches, selection='B_plus_LTIME>0', start=0, stop=Bevtmax) \n",
    "bkg=rec2array(bkgArray)\n",
    "\n",
    "\n",
    "print '\\n--- Selected %i entries to read in from MC ---\\n'%(len(sig)+len(bkg))\n",
    "print '--- %s signal events and %s bkg events ---\\n'%(len(sig),len(bkg))\n",
    "\n",
    "\n",
    "#scikit learn requires 2D array (n_samples, n_features)\n",
    "X = np.concatenate((sig, bkg))\n",
    "y = np.concatenate((np.ones(sig.shape[0]),\n",
    "                    np.zeros(bkg.shape[0])))\n",
    "\n",
    "print 'X', X.shape\n",
    "X_dev,X_eval, y_dev,y_eval = train_test_split(X, y, test_size=.4, random_state=23)\n",
    "X_train,X_test, y_train,y_test = train_test_split(X_dev, y_dev, test_size=0.4, random_state=199)\n",
    "\n",
    "print 'Dev', X_dev.shape, y_dev.shape\n",
    "print 'Eval', X_eval.shape, y_eval.shape\n",
    "print 'Train',X_train.shape, y_train.shape\n",
    "print 'Test',X_test.shape, y_test.shape"
   ]
  },
  {
   "cell_type": "code",
   "execution_count": 105,
   "metadata": {
    "collapsed": false
   },
   "outputs": [
    {
     "name": "stdout",
     "output_type": "stream",
     "text": [
      " ##### AdaBoostClassifier(algorithm='SAMME.R',\n",
      "          base_estimator=DecisionTreeClassifier(class_weight=None, criterion='gini', max_depth=3,\n",
      "            max_features=None, max_leaf_nodes=None,\n",
      "            min_impurity_split=1e-07, min_samples_leaf=1,\n",
      "            min_samples_split=2, min_weight_fraction_leaf=0.0,\n",
      "            presort=False, random_state=None, splitter='best'),\n",
      "          learning_rate=1.0, n_estimators=50, random_state=None) #####\n",
      "Best parameter set found on development set:\n",
      "\n",
      "AdaBoostClassifier(algorithm='SAMME.R',\n",
      "          base_estimator=DecisionTreeClassifier(class_weight=None, criterion='gini', max_depth=3,\n",
      "            max_features=None, max_leaf_nodes=None,\n",
      "            min_impurity_split=1e-07, min_samples_leaf=1,\n",
      "            min_samples_split=2, min_weight_fraction_leaf=0.0,\n",
      "            presort=False, random_state=None, splitter='best'),\n",
      "          learning_rate=0.1, n_estimators=1000, random_state=None)\n",
      "\n",
      "Grid scores on a subset of the development set:\n",
      "\n",
      "0.8015 (+/-0.0023) for {'n_estimators': 10, 'learning_rate': 0.1, 'algorithm': 'SAMME'}\n",
      "0.8210 (+/-0.0025) for {'n_estimators': 30, 'learning_rate': 0.1, 'algorithm': 'SAMME'}\n",
      "0.8262 (+/-0.0017) for {'n_estimators': 50, 'learning_rate': 0.1, 'algorithm': 'SAMME'}\n",
      "0.8317 (+/-0.0028) for {'n_estimators': 100, 'learning_rate': 0.1, 'algorithm': 'SAMME'}\n",
      "0.8368 (+/-0.0028) for {'n_estimators': 200, 'learning_rate': 0.1, 'algorithm': 'SAMME'}\n",
      "0.8459 (+/-0.0019) for {'n_estimators': 500, 'learning_rate': 0.1, 'algorithm': 'SAMME'}\n",
      "0.8507 (+/-0.0025) for {'n_estimators': 800, 'learning_rate': 0.1, 'algorithm': 'SAMME'}\n",
      "0.8522 (+/-0.0030) for {'n_estimators': 1000, 'learning_rate': 0.1, 'algorithm': 'SAMME'}\n",
      "0.8132 (+/-0.0036) for {'n_estimators': 10, 'learning_rate': 0.2, 'algorithm': 'SAMME'}\n",
      "0.8287 (+/-0.0024) for {'n_estimators': 30, 'learning_rate': 0.2, 'algorithm': 'SAMME'}\n",
      "0.8322 (+/-0.0031) for {'n_estimators': 50, 'learning_rate': 0.2, 'algorithm': 'SAMME'}\n",
      "0.8378 (+/-0.0033) for {'n_estimators': 100, 'learning_rate': 0.2, 'algorithm': 'SAMME'}\n",
      "0.8445 (+/-0.0029) for {'n_estimators': 200, 'learning_rate': 0.2, 'algorithm': 'SAMME'}\n",
      "0.8515 (+/-0.0035) for {'n_estimators': 500, 'learning_rate': 0.2, 'algorithm': 'SAMME'}\n",
      "0.8586 (+/-0.0042) for {'n_estimators': 800, 'learning_rate': 0.2, 'algorithm': 'SAMME'}\n",
      "0.8628 (+/-0.0029) for {'n_estimators': 1000, 'learning_rate': 0.2, 'algorithm': 'SAMME'}\n",
      "0.8208 (+/-0.0025) for {'n_estimators': 10, 'learning_rate': 0.5, 'algorithm': 'SAMME'}\n",
      "0.8327 (+/-0.0032) for {'n_estimators': 30, 'learning_rate': 0.5, 'algorithm': 'SAMME'}\n",
      "0.8407 (+/-0.0031) for {'n_estimators': 50, 'learning_rate': 0.5, 'algorithm': 'SAMME'}\n",
      "0.8486 (+/-0.0010) for {'n_estimators': 100, 'learning_rate': 0.5, 'algorithm': 'SAMME'}\n",
      "0.8583 (+/-0.0010) for {'n_estimators': 200, 'learning_rate': 0.5, 'algorithm': 'SAMME'}\n",
      "0.8670 (+/-0.0005) for {'n_estimators': 500, 'learning_rate': 0.5, 'algorithm': 'SAMME'}\n",
      "0.8702 (+/-0.0009) for {'n_estimators': 800, 'learning_rate': 0.5, 'algorithm': 'SAMME'}\n",
      "0.8708 (+/-0.0015) for {'n_estimators': 1000, 'learning_rate': 0.5, 'algorithm': 'SAMME'}\n",
      "0.8161 (+/-0.0035) for {'n_estimators': 10, 'learning_rate': 0.1, 'algorithm': 'SAMME.R'}\n",
      "0.8317 (+/-0.0022) for {'n_estimators': 30, 'learning_rate': 0.1, 'algorithm': 'SAMME.R'}\n",
      "0.8428 (+/-0.0019) for {'n_estimators': 50, 'learning_rate': 0.1, 'algorithm': 'SAMME.R'}\n",
      "0.8579 (+/-0.0029) for {'n_estimators': 100, 'learning_rate': 0.1, 'algorithm': 'SAMME.R'}\n",
      "0.8694 (+/-0.0024) for {'n_estimators': 200, 'learning_rate': 0.1, 'algorithm': 'SAMME.R'}\n",
      "0.8765 (+/-0.0021) for {'n_estimators': 500, 'learning_rate': 0.1, 'algorithm': 'SAMME.R'}\n",
      "0.8782 (+/-0.0020) for {'n_estimators': 800, 'learning_rate': 0.1, 'algorithm': 'SAMME.R'}\n",
      "0.8791 (+/-0.0022) for {'n_estimators': 1000, 'learning_rate': 0.1, 'algorithm': 'SAMME.R'}\n",
      "0.8232 (+/-0.0042) for {'n_estimators': 10, 'learning_rate': 0.2, 'algorithm': 'SAMME.R'}\n",
      "0.8474 (+/-0.0023) for {'n_estimators': 30, 'learning_rate': 0.2, 'algorithm': 'SAMME.R'}\n",
      "0.8581 (+/-0.0018) for {'n_estimators': 50, 'learning_rate': 0.2, 'algorithm': 'SAMME.R'}\n",
      "0.8672 (+/-0.0024) for {'n_estimators': 100, 'learning_rate': 0.2, 'algorithm': 'SAMME.R'}\n",
      "0.8738 (+/-0.0007) for {'n_estimators': 200, 'learning_rate': 0.2, 'algorithm': 'SAMME.R'}\n",
      "0.8717 (+/-0.0014) for {'n_estimators': 500, 'learning_rate': 0.2, 'algorithm': 'SAMME.R'}\n",
      "0.8705 (+/-0.0014) for {'n_estimators': 800, 'learning_rate': 0.2, 'algorithm': 'SAMME.R'}\n",
      "0.8728 (+/-0.0012) for {'n_estimators': 1000, 'learning_rate': 0.2, 'algorithm': 'SAMME.R'}\n",
      "0.8398 (+/-0.0015) for {'n_estimators': 10, 'learning_rate': 0.5, 'algorithm': 'SAMME.R'}\n",
      "0.8630 (+/-0.0023) for {'n_estimators': 30, 'learning_rate': 0.5, 'algorithm': 'SAMME.R'}\n",
      "0.8670 (+/-0.0009) for {'n_estimators': 50, 'learning_rate': 0.5, 'algorithm': 'SAMME.R'}\n",
      "0.8697 (+/-0.0030) for {'n_estimators': 100, 'learning_rate': 0.5, 'algorithm': 'SAMME.R'}\n",
      "0.8643 (+/-0.0022) for {'n_estimators': 200, 'learning_rate': 0.5, 'algorithm': 'SAMME.R'}\n",
      "0.8612 (+/-0.0012) for {'n_estimators': 500, 'learning_rate': 0.5, 'algorithm': 'SAMME.R'}\n",
      "0.8637 (+/-0.0011) for {'n_estimators': 800, 'learning_rate': 0.5, 'algorithm': 'SAMME.R'}\n",
      "0.8659 (+/-0.0024) for {'n_estimators': 1000, 'learning_rate': 0.5, 'algorithm': 'SAMME.R'}\n",
      "\n",
      "With the model trained on the full development set:\n"
     ]
    },
    {
     "name": "stderr",
     "output_type": "stream",
     "text": [
      "/cvmfs/sft.cern.ch/lcg/views/LCG_92/x86_64-slc6-gcc62-opt/lib/python2.7/site-packages/sklearn/model_selection/_search.py:667: DeprecationWarning: The grid_scores_ attribute was deprecated in version 0.18 in favor of the more elaborate cv_results_ attribute. The grid_scores_ attribute will not be available from 0.20\n",
      "  DeprecationWarning)\n"
     ]
    },
    {
     "name": "stdout",
     "output_type": "stream",
     "text": [
      "  It scores 0.9746 on the full development set\n",
      "  It scores 0.8866 on the full evaluation set\n"
     ]
    }
   ],
   "source": [
    "dt = DecisionTreeClassifier(max_depth=3) #if max_depth=None, nodes expanded until leaves are pure\n",
    "bdt = AdaBoostClassifier(base_estimator=dt)\n",
    "bdt_param_grid ={'n_estimators': [10, 30, 50,100, 200, 500, 800, 1000],\n",
    "                 'learning_rate': [.1, .2, .5],\n",
    "                 'algorithm': [\"SAMME\", \"SAMME.R\"]}\n",
    "\n",
    "bdt = optimize_performance(bdt, bdt_param_grid)\n"
   ]
  },
  {
   "cell_type": "code",
   "execution_count": 70,
   "metadata": {
    "collapsed": false
   },
   "outputs": [
    {
     "name": "stdout",
     "output_type": "stream",
     "text": [
      "Added BDT with decision tree base classifier: AdaBoostClassifier(algorithm='SAMME.R',\n",
      "          base_estimator=DecisionTreeClassifier(class_weight=None, criterion='gini', max_depth=3,\n",
      "            max_features=None, max_leaf_nodes=None,\n",
      "            min_impurity_split=1e-07, min_samples_leaf=1,\n",
      "            min_samples_split=2, min_weight_fraction_leaf=0.0,\n",
      "            presort=False, random_state=None, splitter='best'),\n",
      "          learning_rate=0.1, n_estimators=1000, random_state=None)\n",
      "\n",
      "-------- best iteration at 803 for AdaBoostClassifier(algorithm='SAMME.R',\n",
      "          base_estimator=DecisionTreeClassifier(class_weight=None, criterion='gini', max_depth=3,\n",
      "            max_features=None, max_leaf_nodes=None,\n",
      "            min_impurity_split=1e-07, min_samples_leaf=1,\n",
      "            min_samples_split=2, min_weight_fraction_leaf=0.0,\n",
      "            presort=False, random_state=None, splitter='best'),\n",
      "          learning_rate=0.1, n_estimators=1000, random_state=None)\n"
     ]
    },
    {
     "data": {
      "image/png": "[encoded data removed]",
      "text/plain": [
       "<matplotlib.figure.Figure at 0x7f5008c51350>"
      ]
     },
     "metadata": {},
     "output_type": "display_data"
    }
   ],
   "source": [
    "#check for overtraining, take pars from K-CV\n",
    "\n",
    "clfs=[]\n",
    "\n",
    "depth=3\n",
    "learn=.1\n",
    "\n",
    "cdt = DecisionTreeClassifier(max_depth=depth) \n",
    "clf = AdaBoostClassifier(base_estimator=cdt, learning_rate=learn, n_estimators=1000)\n",
    "clf.fit(X_train, y_train) \n",
    "clfs.append(clf)\n",
    "\n",
    "\n",
    "def validation_curve(clfs, train, test):\n",
    "    plt.figure()\n",
    "    X_test, y_test = test\n",
    "    X_train, y_train = train\n",
    "    \n",
    "    for n,clf in enumerate(clfs):\n",
    "        print 'Added BDT with decision tree base classifier: %s\\n'%clf\n",
    "        \n",
    "        #for every estimator save train and test score\n",
    "        test_score = np.empty(len(clf.estimators_))\n",
    "        train_score = np.empty(len(clf.estimators_))\n",
    "##\n",
    "##        #compute the score at every iteration\n",
    "        for i, pred in enumerate(clf.staged_decision_function(X_test)):\n",
    "            test_score[i] = 1- roc_auc_score(y_test, pred)\n",
    "##\n",
    "        for i, pred in enumerate(clf.staged_decision_function(X_train)):\n",
    "            train_score[i] = 1-roc_auc_score(y_train, pred)\n",
    "#         \n",
    "##\n",
    "##        #plot vertical line at best score location\n",
    "##        \n",
    "        best_iter = np.argmin(test_score)\n",
    "        print '-------- best iteration at %s for %s'%(best_iter, clf)\n",
    "        learn = clf.get_params()['learning_rate']\n",
    "        depth = clf.base_estimator.get_params()['max_depth']\n",
    "##        \n",
    "        test_line = plt.plot(\n",
    "                    test_score,\n",
    "                    label='learn=%.1f depth=%i (%.2f)'%(learn,depth, test_score[best_iter])\n",
    "                            )\n",
    "##        \n",
    "        colour = test_line[-1].get_color()\n",
    "        plt.plot(train_score, '--', color=colour)\n",
    "##        \n",
    "        plt.xlabel(\"Number of boosting iterations\")\n",
    "        plt.ylabel(\"1 - area under ROC\")\n",
    "        plt.axvline(x=best_iter, color=colour)\n",
    "##        \n",
    "    plt.legend(loc='best')\n",
    "    plt.savefig('partialSAMPLEvalidation.pdf')\n",
    "##    plt.savefig('Plots/validation.pdf')\n",
    "##\n",
    "##\n",
    "validation_curve(clfs,\n",
    "                 (X_train,y_train),\n",
    "                 (X_test,y_test))\n"
   ]
  },
  {
   "cell_type": "code",
   "execution_count": 108,
   "metadata": {
    "collapsed": false
   },
   "outputs": [
    {
     "data": {
      "text/plain": [
       "AdaBoostClassifier(algorithm='SAMME.R',\n",
       "          base_estimator=DecisionTreeClassifier(class_weight=None, criterion='gini', max_depth=3,\n",
       "            max_features=None, max_leaf_nodes=None,\n",
       "            min_impurity_split=1e-07, min_samples_leaf=1,\n",
       "            min_samples_split=2, min_weight_fraction_leaf=0.0,\n",
       "            presort=False, random_state=None, splitter='best'),\n",
       "          learning_rate=0.1, n_estimators=803, random_state=None)"
      ]
     },
     "execution_count": 108,
     "metadata": {},
     "output_type": "execute_result"
    }
   ],
   "source": [
    "nest=803\n",
    "\n",
    "bdt = AdaBoostClassifier(algorithm='SAMME.R',\n",
    "          base_estimator=DecisionTreeClassifier(class_weight=None, criterion='gini', max_depth=3,\n",
    "            max_features=None, max_leaf_nodes=None,\n",
    "            min_impurity_split=1e-07, min_samples_leaf=1,\n",
    "            min_samples_split=2, min_weight_fraction_leaf=0.0,\n",
    "            presort=False, random_state=None, splitter='best'),\n",
    "          learning_rate=0.1, n_estimators=nest, random_state=None)\n",
    "bdt.fit(X_train, y_train)\n",
    "\n"
   ]
  },
  {
   "cell_type": "code",
   "execution_count": 72,
   "metadata": {
    "collapsed": false
   },
   "outputs": [
    {
     "name": "stdout",
     "output_type": "stream",
     "text": [
      "             precision    recall  f1-score   support\n",
      "\n",
      " background       0.82      0.77      0.79      3822\n",
      "     signal       0.78      0.83      0.81      3856\n",
      "\n",
      "avg / total       0.80      0.80      0.80      7678\n",
      "\n",
      "Area under ROC curve: 0.8692\n"
     ]
    }
   ],
   "source": [
    "bdty_predicted = bdt.predict(X_test)\n",
    "print classification_report(y_test, bdty_predicted,\n",
    "                                    target_names=[\"background\", \"signal\"])\n",
    "print \"Area under ROC curve: %.4f\"%(roc_auc_score(y_test, bdt.decision_function(X_test)))\n"
   ]
  },
  {
   "cell_type": "code",
   "execution_count": 107,
   "metadata": {
    "collapsed": false
   },
   "outputs": [
    {
     "name": "stdout",
     "output_type": "stream",
     "text": [
      "(31993,)\n",
      "15993\n",
      "16000\n"
     ]
    },
    {
     "data": {
      "text/plain": [
       "\"\\nplot_range = (twoclass_output.min(), twoclass_output.max())\\nfor i, n, c in zip(range(2), class_names, plot_colors):\\nplt.hist(twoclass_output[y == i],\\n             bins=100,\\n             range=(-1., 0.5),\\n             facecolor=c,\\n             label='Class %s' % n,\\n             alpha=.5,\\n             edgecolor='k',\\n             fill=True  , stacked=True, histtype='step')\\nx1, x2, y1, y2 = plt.axis()\\nplt.axis((x1, x2, y1, y2 * 1.2))\\nplt.legend(loc='upper right')\\nplt.ylabel('Samples')\\nplt.xlabel('Score')\\nplt.title('Decision Scores')\\n\""
      ]
     },
     "execution_count": 107,
     "metadata": {},
     "output_type": "execute_result"
    }
   ],
   "source": [
    "plot_colors = \"br\"\n",
    "class_names = \"Bs\"\n",
    "\n",
    "# Plot the two-class decision scores\n",
    "twoclass_output = bdt.predict(X)\n",
    "\n",
    "print twoclass_output.shape\n",
    "print len(twoclass_output[y==0])\n",
    "print len(twoclass_output[y==1])\n",
    "\n",
    "\"\"\"\n",
    "plot_range = (twoclass_output.min(), twoclass_output.max())\n",
    "for i, n, c in zip(range(2), class_names, plot_colors):\n",
    "plt.hist(twoclass_output[y == i],\n",
    "             bins=100,\n",
    "             range=(-1., 0.5),\n",
    "             facecolor=c,\n",
    "             label='Class %s' % n,\n",
    "             alpha=.5,\n",
    "             edgecolor='k',\n",
    "             fill=True  , stacked=True, histtype='step')\n",
    "x1, x2, y1, y2 = plt.axis()\n",
    "plt.axis((x1, x2, y1, y2 * 1.2))\n",
    "plt.legend(loc='upper right')\n",
    "plt.ylabel('Samples')\n",
    "plt.xlabel('Score')\n",
    "plt.title('Decision Scores')\n",
    "\"\"\"\n"
   ]
  },
  {
   "cell_type": "code",
   "execution_count": 109,
   "metadata": {
    "collapsed": false
   },
   "outputs": [
    {
     "name": "stdout",
     "output_type": "stream",
     "text": [
      " ##### GradientBoostingClassifier(criterion='friedman_mse', init=None,\n",
      "              learning_rate=0.1, loss='deviance', max_depth=3,\n",
      "              max_features=None, max_leaf_nodes=None,\n",
      "              min_impurity_split=1e-07, min_samples_leaf=1,\n",
      "              min_samples_split=2, min_weight_fraction_leaf=0.0,\n",
      "              n_estimators=100, presort='auto', random_state=None,\n",
      "              subsample=1.0, verbose=0, warm_start=False) #####\n",
      "Best parameter set found on development set:\n",
      "\n",
      "GradientBoostingClassifier(criterion='friedman_mse', init=None,\n",
      "              learning_rate=0.2, loss='deviance', max_depth=8,\n",
      "              max_features=None, max_leaf_nodes=None,\n",
      "              min_impurity_split=1e-07, min_samples_leaf=1,\n",
      "              min_samples_split=2, min_weight_fraction_leaf=0.0,\n",
      "              n_estimators=1000, presort='auto', random_state=None,\n",
      "              subsample=1.0, verbose=0, warm_start=False)\n",
      "\n",
      "Grid scores on a subset of the development set:\n",
      "\n",
      "0.8164 (+/-0.0039) for {'n_estimators': 50, 'learning_rate': 0.1, 'max_depth': 1}\n",
      "0.8293 (+/-0.0025) for {'n_estimators': 200, 'learning_rate': 0.1, 'max_depth': 1}\n",
      "0.8357 (+/-0.0021) for {'n_estimators': 400, 'learning_rate': 0.1, 'max_depth': 1}\n",
      "0.8457 (+/-0.0017) for {'n_estimators': 1000, 'learning_rate': 0.1, 'max_depth': 1}\n",
      "0.8411 (+/-0.0022) for {'n_estimators': 50, 'learning_rate': 0.1, 'max_depth': 3}\n",
      "0.8707 (+/-0.0008) for {'n_estimators': 200, 'learning_rate': 0.1, 'max_depth': 3}\n",
      "0.8807 (+/-0.0008) for {'n_estimators': 400, 'learning_rate': 0.1, 'max_depth': 3}\n",
      "0.8913 (+/-0.0017) for {'n_estimators': 1000, 'learning_rate': 0.1, 'max_depth': 3}\n",
      "0.8827 (+/-0.0005) for {'n_estimators': 50, 'learning_rate': 0.1, 'max_depth': 8}\n",
      "0.9025 (+/-0.0014) for {'n_estimators': 200, 'learning_rate': 0.1, 'max_depth': 8}\n",
      "0.9094 (+/-0.0012) for {'n_estimators': 400, 'learning_rate': 0.1, 'max_depth': 8}\n",
      "0.9130 (+/-0.0020) for {'n_estimators': 1000, 'learning_rate': 0.1, 'max_depth': 8}\n",
      "0.8228 (+/-0.0031) for {'n_estimators': 50, 'learning_rate': 0.2, 'max_depth': 1}\n",
      "0.8359 (+/-0.0023) for {'n_estimators': 200, 'learning_rate': 0.2, 'max_depth': 1}\n",
      "0.8435 (+/-0.0019) for {'n_estimators': 400, 'learning_rate': 0.2, 'max_depth': 1}\n",
      "0.8565 (+/-0.0015) for {'n_estimators': 1000, 'learning_rate': 0.2, 'max_depth': 1}\n",
      "0.8583 (+/-0.0019) for {'n_estimators': 50, 'learning_rate': 0.2, 'max_depth': 3}\n",
      "0.8797 (+/-0.0009) for {'n_estimators': 200, 'learning_rate': 0.2, 'max_depth': 3}\n",
      "0.8881 (+/-0.0013) for {'n_estimators': 400, 'learning_rate': 0.2, 'max_depth': 3}\n",
      "0.8978 (+/-0.0011) for {'n_estimators': 1000, 'learning_rate': 0.2, 'max_depth': 3}\n",
      "0.8899 (+/-0.0024) for {'n_estimators': 50, 'learning_rate': 0.2, 'max_depth': 8}\n",
      "0.9067 (+/-0.0019) for {'n_estimators': 200, 'learning_rate': 0.2, 'max_depth': 8}\n",
      "0.9120 (+/-0.0015) for {'n_estimators': 400, 'learning_rate': 0.2, 'max_depth': 8}\n",
      "0.9160 (+/-0.0017) for {'n_estimators': 1000, 'learning_rate': 0.2, 'max_depth': 8}\n",
      "0.8367 (+/-0.0035) for {'n_estimators': 50, 'learning_rate': 1.0, 'max_depth': 1}\n",
      "0.8601 (+/-0.0027) for {'n_estimators': 200, 'learning_rate': 1.0, 'max_depth': 1}\n",
      "0.8717 (+/-0.0018) for {'n_estimators': 400, 'learning_rate': 1.0, 'max_depth': 1}\n",
      "0.8796 (+/-0.0021) for {'n_estimators': 1000, 'learning_rate': 1.0, 'max_depth': 1}\n",
      "0.8645 (+/-0.0022) for {'n_estimators': 50, 'learning_rate': 1.0, 'max_depth': 3}\n",
      "0.8694 (+/-0.0021) for {'n_estimators': 200, 'learning_rate': 1.0, 'max_depth': 3}\n",
      "0.8759 (+/-0.0013) for {'n_estimators': 400, 'learning_rate': 1.0, 'max_depth': 3}\n",
      "0.8888 (+/-0.0025) for {'n_estimators': 1000, 'learning_rate': 1.0, 'max_depth': 3}\n",
      "0.8679 (+/-0.0037) for {'n_estimators': 50, 'learning_rate': 1.0, 'max_depth': 8}\n",
      "0.8984 (+/-0.0024) for {'n_estimators': 200, 'learning_rate': 1.0, 'max_depth': 8}\n",
      "0.9007 (+/-0.0021) for {'n_estimators': 400, 'learning_rate': 1.0, 'max_depth': 8}\n",
      "0.8983 (+/-0.0038) for {'n_estimators': 1000, 'learning_rate': 1.0, 'max_depth': 8}\n",
      "\n",
      "With the model trained on the full development set:\n"
     ]
    },
    {
     "name": "stderr",
     "output_type": "stream",
     "text": [
      "/cvmfs/sft.cern.ch/lcg/views/LCG_92/x86_64-slc6-gcc62-opt/lib/python2.7/site-packages/sklearn/model_selection/_search.py:667: DeprecationWarning: The grid_scores_ attribute was deprecated in version 0.18 in favor of the more elaborate cv_results_ attribute. The grid_scores_ attribute will not be available from 0.20\n",
      "  DeprecationWarning)\n"
     ]
    },
    {
     "name": "stdout",
     "output_type": "stream",
     "text": [
      "  It scores 1.0000 on the full development set\n",
      "  It scores 0.9379 on the full evaluation set\n"
     ]
    }
   ],
   "source": [
    "gbt = GradientBoostingClassifier() #defaults\n",
    "gbt_param_grid = {\"n_estimators\": [50,200,400,1000],\n",
    "              \"max_depth\": [1, 3, 8],\n",
    "              'learning_rate': [0.1, 0.2, 1.]}\n",
    "\n",
    "gbt=optimize_performance(gbt, gbt_param_grid)"
   ]
  },
  {
   "cell_type": "code",
   "execution_count": 82,
   "metadata": {
    "collapsed": false
   },
   "outputs": [
    {
     "data": {
      "text/plain": [
       "MLPClassifier(activation='relu', alpha=0.0001, batch_size='auto', beta_1=0.9,\n",
       "       beta_2=0.999, early_stopping=False, epsilon=1e-08,\n",
       "       hidden_layer_sizes=(100,), learning_rate='constant',\n",
       "       learning_rate_init=0.001, max_iter=200, momentum=0.9,\n",
       "       nesterovs_momentum=True, power_t=0.5, random_state=None,\n",
       "       shuffle=True, solver='adam', tol=0.0001, validation_fraction=0.1,\n",
       "       verbose=False, warm_start=False)"
      ]
     },
     "execution_count": 82,
     "metadata": {},
     "output_type": "execute_result"
    }
   ],
   "source": [
    "mlp = MLPClassifier()\n",
    "mlp.fit(X_train, y_train)"
   ]
  },
  {
   "cell_type": "code",
   "execution_count": 113,
   "metadata": {
    "collapsed": false
   },
   "outputs": [
    {
     "name": "stdout",
     "output_type": "stream",
     "text": [
      "             precision    recall  f1-score   support\n",
      "\n",
      " background       1.00      1.00      1.00      3822\n",
      "     signal       1.00      1.00      1.00      3856\n",
      "\n",
      "avg / total       1.00      1.00      1.00      7678\n",
      "\n",
      "Area under ROC curve: 1.0000\n"
     ]
    }
   ],
   "source": [
    "gbty_predicted = gbt.predict(X_test)\n",
    "print classification_report(y_test, gbty_predicted,\n",
    "                                    target_names=[\"background\", \"signal\"])\n",
    "print \"Area under ROC curve: %.4f\"%(roc_auc_score(y_test, gbt.decision_function(X_test)))\n"
   ]
  },
  {
   "cell_type": "code",
   "execution_count": 131,
   "metadata": {
    "collapsed": false
   },
   "outputs": [
    {
     "data": {
      "image/png": "[encoded data removed]",
      "text/plain": [
       "<matplotlib.figure.Figure at 0x7f50020265d0>"
      ]
     },
     "metadata": {},
     "output_type": "display_data"
    }
   ],
   "source": [
    "def compare_train_test(clf, X_train, y_train, X_test, y_test, bins=50):\n",
    "    decisions = []\n",
    "    for X,y in ((X_train, y_train), (X_test, y_test)):\n",
    "        d1 = clf.decision_function(X[y>0.5]).ravel()\n",
    "        d2 = clf.decision_function(X[y<0.5]).ravel()\n",
    "        decisions += [d1, d2]\n",
    "        \n",
    "    low = min(np.min(d) for d in decisions)\n",
    "    high = max(np.max(d) for d in decisions)\n",
    "    low_high = (low,high)\n",
    "    \n",
    "    plt.hist(decisions[0],\n",
    "             color='r', alpha=0.5, range=low_high, bins=bins,\n",
    "             histtype='stepfilled', normed=True,\n",
    "             label='S (train)')\n",
    "    plt.hist(decisions[1],\n",
    "             color='b', alpha=0.5, range=low_high, bins=bins,\n",
    "             histtype='stepfilled', normed=True,\n",
    "             label='B (train)')\n",
    "\n",
    "    hist, bins = np.histogram(decisions[2],\n",
    "                              bins=bins, range=low_high, normed=True)\n",
    "    scale = len(decisions[2]) / sum(hist)\n",
    "    err = np.sqrt(hist * scale) / scale\n",
    "    \n",
    "    width = (bins[1] - bins[0])\n",
    "    center = (bins[:-1] + bins[1:]) / 2\n",
    "    plt.errorbar(center, hist, yerr=err, fmt='o', c='r', label='S (test)')\n",
    "    \n",
    "    hist, bins = np.histogram(decisions[3],\n",
    "                              bins=bins, range=low_high, normed=True)\n",
    "    scale = len(decisions[2]) / sum(hist)\n",
    "    err = np.sqrt(hist * scale) / scale\n",
    "\n",
    "    plt.errorbar(center, hist, yerr=err, fmt='o', c='b', label='B (test)')\n",
    "\n",
    "    plt.xlabel(\"BDT output\")\n",
    "    plt.ylabel(\"Arbitrary units\")\n",
    "    plt.legend(loc='best')\n",
    "    plt.savefig('gbt_FULLSAMPLE_novalidation_bdtoutput.pdf')\n",
    "\n",
    "compare_train_test(gbt, X_train, y_train, X_test, y_test)"
   ]
  },
  {
   "cell_type": "code",
   "execution_count": 133,
   "metadata": {
    "collapsed": false
   },
   "outputs": [
    {
     "data": {
      "image/png": "[encoded data removed]",
      "text/plain": [
       "<matplotlib.figure.Figure at 0x7f50235978d0>"
      ]
     },
     "metadata": {},
     "output_type": "display_data"
    }
   ],
   "source": [
    "def compare_train_test(clf, X_train, y_train, X_test, y_test, bins=50):\n",
    "    decisions = []\n",
    "    for X,y in ((X_train, y_train), (X_test, y_test)):\n",
    "        d1 = clf.predict_proba(X[y>0.5]).ravel()\n",
    "        d2 = clf.predict_proba(X[y<0.5]).ravel()\n",
    "        decisions += [d1, d2]\n",
    "        \n",
    "    low = min(np.min(d) for d in decisions)\n",
    "    high = max(np.max(d) for d in decisions)\n",
    "    low_high = (low,high)\n",
    "    \n",
    "    plt.hist(decisions[0],\n",
    "             color='r', alpha=0.5, range=low_high, bins=bins,\n",
    "             histtype='stepfilled', normed=True,\n",
    "             label='S (train)')\n",
    "    plt.hist(decisions[1],\n",
    "             color='b', alpha=0.5, range=low_high, bins=bins,\n",
    "             histtype='stepfilled', normed=True,\n",
    "             label='B (train)')\n",
    "\n",
    "    hist, bins = np.histogram(decisions[2],\n",
    "                              bins=bins, range=low_high, normed=True)\n",
    "    scale = len(decisions[2]) / sum(hist)\n",
    "    err = np.sqrt(hist * scale) / scale\n",
    "    \n",
    "    width = (bins[1] - bins[0])\n",
    "    center = (bins[:-1] + bins[1:]) / 2\n",
    "    plt.errorbar(center, hist, yerr=err, fmt='o', c='r', label='S (test)')\n",
    "    \n",
    "    hist, bins = np.histogram(decisions[3],\n",
    "                              bins=bins, range=low_high, normed=True)\n",
    "    scale = len(decisions[2]) / sum(hist)\n",
    "    err = np.sqrt(hist * scale) / scale\n",
    "\n",
    "    plt.errorbar(center, hist, yerr=err, fmt='o', c='b', label='B (test)')\n",
    "\n",
    "    plt.xlabel(\"BDT output\")\n",
    "    plt.ylabel(\"Arbitrary units\")\n",
    "    plt.legend(loc='best')\n",
    "    plt.savefig('mlp_FULLSAMPLE_novalidation_bdtoutput.pdf')\n",
    "\n",
    "compare_train_test(mlp, X_train, y_train, X_test, y_test)"
   ]
  },
  {
   "cell_type": "code",
   "execution_count": 138,
   "metadata": {
    "collapsed": false
   },
   "outputs": [
    {
     "ename": "ImportError",
     "evalue": "cannot import name cd_fast",
     "output_type": "error",
     "traceback": [
      "\u001b[0;31m\u001b[0m",
      "\u001b[0;31mImportError\u001b[0mTraceback (most recent call last)",
      "\u001b[0;32m<ipython-input-138-171e7bc2f6e0>\u001b[0m in \u001b[0;36m<module>\u001b[0;34m()\u001b[0m\n\u001b[0;32m----> 1\u001b[0;31m \u001b[0;32mfrom\u001b[0m \u001b[0msklearn\u001b[0m \u001b[0;32mimport\u001b[0m \u001b[0msvm\u001b[0m\u001b[0;34m\u001b[0m\u001b[0m\n\u001b[0m\u001b[1;32m      2\u001b[0m \u001b[0;34m\u001b[0m\u001b[0m\n\u001b[1;32m      3\u001b[0m \u001b[0msvm\u001b[0m\u001b[0;34m=\u001b[0m\u001b[0msvm\u001b[0m\u001b[0;34m.\u001b[0m\u001b[0mSVC\u001b[0m\u001b[0;34m(\u001b[0m\u001b[0;34m)\u001b[0m\u001b[0;34m\u001b[0m\u001b[0m\n\u001b[1;32m      4\u001b[0m \u001b[0;34m\u001b[0m\u001b[0m\n\u001b[1;32m      5\u001b[0m \u001b[0msvm\u001b[0m\u001b[0;34m.\u001b[0m\u001b[0mfit\u001b[0m\u001b[0;34m(\u001b[0m\u001b[0mX_dev\u001b[0m\u001b[0;34m,\u001b[0m\u001b[0mY_dev\u001b[0m\u001b[0;34m)\u001b[0m\u001b[0;34m\u001b[0m\u001b[0m\n",
      "\u001b[0;32m/cvmfs/sft.cern.ch/lcg/views/LCG_92/x86_64-slc6-gcc62-opt/lib/ROOT.pyc\u001b[0m in \u001b[0;36m_importhook\u001b[0;34m(name, *args, **kwds)\u001b[0m\n\u001b[1;32m    316\u001b[0m       \u001b[0;32mexcept\u001b[0m \u001b[0mException\u001b[0m\u001b[0;34m:\u001b[0m\u001b[0;34m\u001b[0m\u001b[0m\n\u001b[1;32m    317\u001b[0m          \u001b[0;32mpass\u001b[0m\u001b[0;34m\u001b[0m\u001b[0m\n\u001b[0;32m--> 318\u001b[0;31m    \u001b[0;32mreturn\u001b[0m \u001b[0m_orig_ihook\u001b[0m\u001b[0;34m(\u001b[0m \u001b[0mname\u001b[0m\u001b[0;34m,\u001b[0m \u001b[0;34m*\u001b[0m\u001b[0margs\u001b[0m\u001b[0;34m,\u001b[0m \u001b[0;34m**\u001b[0m\u001b[0mkwds\u001b[0m \u001b[0;34m)\u001b[0m\u001b[0;34m\u001b[0m\u001b[0m\n\u001b[0m\u001b[1;32m    319\u001b[0m \u001b[0;34m\u001b[0m\u001b[0m\n\u001b[1;32m    320\u001b[0m \u001b[0m__builtin__\u001b[0m\u001b[0;34m.\u001b[0m\u001b[0m__import__\u001b[0m \u001b[0;34m=\u001b[0m \u001b[0m_importhook\u001b[0m\u001b[0;34m\u001b[0m\u001b[0m\n",
      "\u001b[0;32m/cvmfs/sft.cern.ch/lcg/views/LCG_92/x86_64-slc6-gcc62-opt/lib/python2.7/site-packages/sklearn/svm/__init__.py\u001b[0m in \u001b[0;36m<module>\u001b[0;34m()\u001b[0m\n\u001b[1;32m     11\u001b[0m \u001b[0;31m# License: BSD 3 clause (C) INRIA 2010\u001b[0m\u001b[0;34m\u001b[0m\u001b[0;34m\u001b[0m\u001b[0m\n\u001b[1;32m     12\u001b[0m \u001b[0;34m\u001b[0m\u001b[0m\n\u001b[0;32m---> 13\u001b[0;31m \u001b[0;32mfrom\u001b[0m \u001b[0;34m.\u001b[0m\u001b[0mclasses\u001b[0m \u001b[0;32mimport\u001b[0m \u001b[0mSVC\u001b[0m\u001b[0;34m,\u001b[0m \u001b[0mNuSVC\u001b[0m\u001b[0;34m,\u001b[0m \u001b[0mSVR\u001b[0m\u001b[0;34m,\u001b[0m \u001b[0mNuSVR\u001b[0m\u001b[0;34m,\u001b[0m \u001b[0mOneClassSVM\u001b[0m\u001b[0;34m,\u001b[0m \u001b[0mLinearSVC\u001b[0m\u001b[0;34m,\u001b[0m\u001b[0;31m \u001b[0m\u001b[0;31m\\\u001b[0m\u001b[0;34m\u001b[0m\u001b[0m\n\u001b[0m\u001b[1;32m     14\u001b[0m         \u001b[0mLinearSVR\u001b[0m\u001b[0;34m\u001b[0m\u001b[0m\n\u001b[1;32m     15\u001b[0m \u001b[0;32mfrom\u001b[0m \u001b[0;34m.\u001b[0m\u001b[0mbounds\u001b[0m \u001b[0;32mimport\u001b[0m \u001b[0ml1_min_c\u001b[0m\u001b[0;34m\u001b[0m\u001b[0m\n",
      "\u001b[0;32m/cvmfs/sft.cern.ch/lcg/views/LCG_92/x86_64-slc6-gcc62-opt/lib/ROOT.pyc\u001b[0m in \u001b[0;36m_importhook\u001b[0;34m(name, *args, **kwds)\u001b[0m\n\u001b[1;32m    316\u001b[0m       \u001b[0;32mexcept\u001b[0m \u001b[0mException\u001b[0m\u001b[0;34m:\u001b[0m\u001b[0;34m\u001b[0m\u001b[0m\n\u001b[1;32m    317\u001b[0m          \u001b[0;32mpass\u001b[0m\u001b[0;34m\u001b[0m\u001b[0m\n\u001b[0;32m--> 318\u001b[0;31m    \u001b[0;32mreturn\u001b[0m \u001b[0m_orig_ihook\u001b[0m\u001b[0;34m(\u001b[0m \u001b[0mname\u001b[0m\u001b[0;34m,\u001b[0m \u001b[0;34m*\u001b[0m\u001b[0margs\u001b[0m\u001b[0;34m,\u001b[0m \u001b[0;34m**\u001b[0m\u001b[0mkwds\u001b[0m \u001b[0;34m)\u001b[0m\u001b[0;34m\u001b[0m\u001b[0m\n\u001b[0m\u001b[1;32m    319\u001b[0m \u001b[0;34m\u001b[0m\u001b[0m\n\u001b[1;32m    320\u001b[0m \u001b[0m__builtin__\u001b[0m\u001b[0;34m.\u001b[0m\u001b[0m__import__\u001b[0m \u001b[0;34m=\u001b[0m \u001b[0m_importhook\u001b[0m\u001b[0;34m\u001b[0m\u001b[0m\n",
      "\u001b[0;32m/cvmfs/sft.cern.ch/lcg/views/LCG_92/x86_64-slc6-gcc62-opt/lib/python2.7/site-packages/sklearn/svm/classes.py\u001b[0m in \u001b[0;36m<module>\u001b[0;34m()\u001b[0m\n\u001b[1;32m      4\u001b[0m \u001b[0;32mfrom\u001b[0m \u001b[0;34m.\u001b[0m\u001b[0mbase\u001b[0m \u001b[0;32mimport\u001b[0m \u001b[0m_fit_liblinear\u001b[0m\u001b[0;34m,\u001b[0m \u001b[0mBaseSVC\u001b[0m\u001b[0;34m,\u001b[0m \u001b[0mBaseLibSVM\u001b[0m\u001b[0;34m\u001b[0m\u001b[0m\n\u001b[1;32m      5\u001b[0m \u001b[0;32mfrom\u001b[0m \u001b[0;34m.\u001b[0m\u001b[0;34m.\u001b[0m\u001b[0mbase\u001b[0m \u001b[0;32mimport\u001b[0m \u001b[0mBaseEstimator\u001b[0m\u001b[0;34m,\u001b[0m \u001b[0mRegressorMixin\u001b[0m\u001b[0;34m\u001b[0m\u001b[0m\n\u001b[0;32m----> 6\u001b[0;31m \u001b[0;32mfrom\u001b[0m \u001b[0;34m.\u001b[0m\u001b[0;34m.\u001b[0m\u001b[0mlinear_model\u001b[0m\u001b[0;34m.\u001b[0m\u001b[0mbase\u001b[0m \u001b[0;32mimport\u001b[0m \u001b[0mLinearClassifierMixin\u001b[0m\u001b[0;34m,\u001b[0m \u001b[0mSparseCoefMixin\u001b[0m\u001b[0;34m,\u001b[0m\u001b[0;31m \u001b[0m\u001b[0;31m\\\u001b[0m\u001b[0;34m\u001b[0m\u001b[0m\n\u001b[0m\u001b[1;32m      7\u001b[0m     \u001b[0mLinearModel\u001b[0m\u001b[0;34m\u001b[0m\u001b[0m\n\u001b[1;32m      8\u001b[0m \u001b[0;32mfrom\u001b[0m \u001b[0;34m.\u001b[0m\u001b[0;34m.\u001b[0m\u001b[0mfeature_selection\u001b[0m\u001b[0;34m.\u001b[0m\u001b[0mfrom_model\u001b[0m \u001b[0;32mimport\u001b[0m \u001b[0m_LearntSelectorMixin\u001b[0m\u001b[0;34m\u001b[0m\u001b[0m\n",
      "\u001b[0;32m/cvmfs/sft.cern.ch/lcg/views/LCG_92/x86_64-slc6-gcc62-opt/lib/ROOT.pyc\u001b[0m in \u001b[0;36m_importhook\u001b[0;34m(name, *args, **kwds)\u001b[0m\n\u001b[1;32m    316\u001b[0m       \u001b[0;32mexcept\u001b[0m \u001b[0mException\u001b[0m\u001b[0;34m:\u001b[0m\u001b[0;34m\u001b[0m\u001b[0m\n\u001b[1;32m    317\u001b[0m          \u001b[0;32mpass\u001b[0m\u001b[0;34m\u001b[0m\u001b[0m\n\u001b[0;32m--> 318\u001b[0;31m    \u001b[0;32mreturn\u001b[0m \u001b[0m_orig_ihook\u001b[0m\u001b[0;34m(\u001b[0m \u001b[0mname\u001b[0m\u001b[0;34m,\u001b[0m \u001b[0;34m*\u001b[0m\u001b[0margs\u001b[0m\u001b[0;34m,\u001b[0m \u001b[0;34m**\u001b[0m\u001b[0mkwds\u001b[0m \u001b[0;34m)\u001b[0m\u001b[0;34m\u001b[0m\u001b[0m\n\u001b[0m\u001b[1;32m    319\u001b[0m \u001b[0;34m\u001b[0m\u001b[0m\n\u001b[1;32m    320\u001b[0m \u001b[0m__builtin__\u001b[0m\u001b[0;34m.\u001b[0m\u001b[0m__import__\u001b[0m \u001b[0;34m=\u001b[0m \u001b[0m_importhook\u001b[0m\u001b[0;34m\u001b[0m\u001b[0m\n",
      "\u001b[0;32m/cvmfs/sft.cern.ch/lcg/views/LCG_92/x86_64-slc6-gcc62-opt/lib/python2.7/site-packages/sklearn/linear_model/__init__.py\u001b[0m in \u001b[0;36m<module>\u001b[0;34m()\u001b[0m\n\u001b[1;32m     15\u001b[0m from .least_angle import (Lars, LassoLars, lars_path, LarsCV, LassoLarsCV,\n\u001b[1;32m     16\u001b[0m                           LassoLarsIC)\n\u001b[0;32m---> 17\u001b[0;31m from .coordinate_descent import (Lasso, ElasticNet, LassoCV, ElasticNetCV,\n\u001b[0m\u001b[1;32m     18\u001b[0m                                  \u001b[0mlasso_path\u001b[0m\u001b[0;34m,\u001b[0m \u001b[0menet_path\u001b[0m\u001b[0;34m,\u001b[0m \u001b[0mMultiTaskLasso\u001b[0m\u001b[0;34m,\u001b[0m\u001b[0;34m\u001b[0m\u001b[0m\n\u001b[1;32m     19\u001b[0m                                  \u001b[0mMultiTaskElasticNet\u001b[0m\u001b[0;34m,\u001b[0m \u001b[0mMultiTaskElasticNetCV\u001b[0m\u001b[0;34m,\u001b[0m\u001b[0;34m\u001b[0m\u001b[0m\n",
      "\u001b[0;32m/cvmfs/sft.cern.ch/lcg/views/LCG_92/x86_64-slc6-gcc62-opt/lib/ROOT.pyc\u001b[0m in \u001b[0;36m_importhook\u001b[0;34m(name, *args, **kwds)\u001b[0m\n\u001b[1;32m    316\u001b[0m       \u001b[0;32mexcept\u001b[0m \u001b[0mException\u001b[0m\u001b[0;34m:\u001b[0m\u001b[0;34m\u001b[0m\u001b[0m\n\u001b[1;32m    317\u001b[0m          \u001b[0;32mpass\u001b[0m\u001b[0;34m\u001b[0m\u001b[0m\n\u001b[0;32m--> 318\u001b[0;31m    \u001b[0;32mreturn\u001b[0m \u001b[0m_orig_ihook\u001b[0m\u001b[0;34m(\u001b[0m \u001b[0mname\u001b[0m\u001b[0;34m,\u001b[0m \u001b[0;34m*\u001b[0m\u001b[0margs\u001b[0m\u001b[0;34m,\u001b[0m \u001b[0;34m**\u001b[0m\u001b[0mkwds\u001b[0m \u001b[0;34m)\u001b[0m\u001b[0;34m\u001b[0m\u001b[0m\n\u001b[0m\u001b[1;32m    319\u001b[0m \u001b[0;34m\u001b[0m\u001b[0m\n\u001b[1;32m    320\u001b[0m \u001b[0m__builtin__\u001b[0m\u001b[0;34m.\u001b[0m\u001b[0m__import__\u001b[0m \u001b[0;34m=\u001b[0m \u001b[0m_importhook\u001b[0m\u001b[0;34m\u001b[0m\u001b[0m\n",
      "\u001b[0;32m/cvmfs/sft.cern.ch/lcg/views/LCG_92/x86_64-slc6-gcc62-opt/lib/python2.7/site-packages/sklearn/linear_model/coordinate_descent.py\u001b[0m in \u001b[0;36m<module>\u001b[0;34m()\u001b[0m\n\u001b[1;32m     27\u001b[0m \u001b[0;32mfrom\u001b[0m \u001b[0;34m.\u001b[0m\u001b[0;34m.\u001b[0m\u001b[0mexceptions\u001b[0m \u001b[0;32mimport\u001b[0m \u001b[0mConvergenceWarning\u001b[0m\u001b[0;34m\u001b[0m\u001b[0m\n\u001b[1;32m     28\u001b[0m \u001b[0;34m\u001b[0m\u001b[0m\n\u001b[0;32m---> 29\u001b[0;31m \u001b[0;32mfrom\u001b[0m \u001b[0;34m.\u001b[0m \u001b[0;32mimport\u001b[0m \u001b[0mcd_fast\u001b[0m\u001b[0;34m\u001b[0m\u001b[0m\n\u001b[0m\u001b[1;32m     30\u001b[0m \u001b[0;34m\u001b[0m\u001b[0m\n\u001b[1;32m     31\u001b[0m \u001b[0;34m\u001b[0m\u001b[0m\n",
      "\u001b[0;31mImportError\u001b[0m: cannot import name cd_fast"
     ]
    }
   ],
   "source": [
    "from sklearn import svm\n",
    "\n",
    "svm=svm.SVC()\n",
    "\n",
    "svm.fit(X_dev,Y_dev)"
   ]
  },
  {
   "cell_type": "code",
   "execution_count": 140,
   "metadata": {
    "collapsed": false
   },
   "outputs": [
    {
     "ename": "ImportError",
     "evalue": "cannot import name cd_fast",
     "output_type": "error",
     "traceback": [
      "\u001b[0;31m\u001b[0m",
      "\u001b[0;31mImportError\u001b[0mTraceback (most recent call last)",
      "\u001b[0;32m<ipython-input-140-d59b09dd7217>\u001b[0m in \u001b[0;36m<module>\u001b[0;34m()\u001b[0m\n\u001b[0;32m----> 1\u001b[0;31m \u001b[0;32mfrom\u001b[0m \u001b[0msklearn\u001b[0m\u001b[0;34m.\u001b[0m\u001b[0msvm\u001b[0m \u001b[0;32mimport\u001b[0m \u001b[0mSVC\u001b[0m\u001b[0;34m\u001b[0m\u001b[0m\n\u001b[0m",
      "\u001b[0;32m/cvmfs/sft.cern.ch/lcg/views/LCG_92/x86_64-slc6-gcc62-opt/lib/ROOT.pyc\u001b[0m in \u001b[0;36m_importhook\u001b[0;34m(name, *args, **kwds)\u001b[0m\n\u001b[1;32m    316\u001b[0m       \u001b[0;32mexcept\u001b[0m \u001b[0mException\u001b[0m\u001b[0;34m:\u001b[0m\u001b[0;34m\u001b[0m\u001b[0m\n\u001b[1;32m    317\u001b[0m          \u001b[0;32mpass\u001b[0m\u001b[0;34m\u001b[0m\u001b[0m\n\u001b[0;32m--> 318\u001b[0;31m    \u001b[0;32mreturn\u001b[0m \u001b[0m_orig_ihook\u001b[0m\u001b[0;34m(\u001b[0m \u001b[0mname\u001b[0m\u001b[0;34m,\u001b[0m \u001b[0;34m*\u001b[0m\u001b[0margs\u001b[0m\u001b[0;34m,\u001b[0m \u001b[0;34m**\u001b[0m\u001b[0mkwds\u001b[0m \u001b[0;34m)\u001b[0m\u001b[0;34m\u001b[0m\u001b[0m\n\u001b[0m\u001b[1;32m    319\u001b[0m \u001b[0;34m\u001b[0m\u001b[0m\n\u001b[1;32m    320\u001b[0m \u001b[0m__builtin__\u001b[0m\u001b[0;34m.\u001b[0m\u001b[0m__import__\u001b[0m \u001b[0;34m=\u001b[0m \u001b[0m_importhook\u001b[0m\u001b[0;34m\u001b[0m\u001b[0m\n",
      "\u001b[0;32m/cvmfs/sft.cern.ch/lcg/views/LCG_92/x86_64-slc6-gcc62-opt/lib/python2.7/site-packages/sklearn/svm/__init__.py\u001b[0m in \u001b[0;36m<module>\u001b[0;34m()\u001b[0m\n\u001b[1;32m     11\u001b[0m \u001b[0;31m# License: BSD 3 clause (C) INRIA 2010\u001b[0m\u001b[0;34m\u001b[0m\u001b[0;34m\u001b[0m\u001b[0m\n\u001b[1;32m     12\u001b[0m \u001b[0;34m\u001b[0m\u001b[0m\n\u001b[0;32m---> 13\u001b[0;31m \u001b[0;32mfrom\u001b[0m \u001b[0;34m.\u001b[0m\u001b[0mclasses\u001b[0m \u001b[0;32mimport\u001b[0m \u001b[0mSVC\u001b[0m\u001b[0;34m,\u001b[0m \u001b[0mNuSVC\u001b[0m\u001b[0;34m,\u001b[0m \u001b[0mSVR\u001b[0m\u001b[0;34m,\u001b[0m \u001b[0mNuSVR\u001b[0m\u001b[0;34m,\u001b[0m \u001b[0mOneClassSVM\u001b[0m\u001b[0;34m,\u001b[0m \u001b[0mLinearSVC\u001b[0m\u001b[0;34m,\u001b[0m\u001b[0;31m \u001b[0m\u001b[0;31m\\\u001b[0m\u001b[0;34m\u001b[0m\u001b[0m\n\u001b[0m\u001b[1;32m     14\u001b[0m         \u001b[0mLinearSVR\u001b[0m\u001b[0;34m\u001b[0m\u001b[0m\n\u001b[1;32m     15\u001b[0m \u001b[0;32mfrom\u001b[0m \u001b[0;34m.\u001b[0m\u001b[0mbounds\u001b[0m \u001b[0;32mimport\u001b[0m \u001b[0ml1_min_c\u001b[0m\u001b[0;34m\u001b[0m\u001b[0m\n",
      "\u001b[0;32m/cvmfs/sft.cern.ch/lcg/views/LCG_92/x86_64-slc6-gcc62-opt/lib/ROOT.pyc\u001b[0m in \u001b[0;36m_importhook\u001b[0;34m(name, *args, **kwds)\u001b[0m\n\u001b[1;32m    316\u001b[0m       \u001b[0;32mexcept\u001b[0m \u001b[0mException\u001b[0m\u001b[0;34m:\u001b[0m\u001b[0;34m\u001b[0m\u001b[0m\n\u001b[1;32m    317\u001b[0m          \u001b[0;32mpass\u001b[0m\u001b[0;34m\u001b[0m\u001b[0m\n\u001b[0;32m--> 318\u001b[0;31m    \u001b[0;32mreturn\u001b[0m \u001b[0m_orig_ihook\u001b[0m\u001b[0;34m(\u001b[0m \u001b[0mname\u001b[0m\u001b[0;34m,\u001b[0m \u001b[0;34m*\u001b[0m\u001b[0margs\u001b[0m\u001b[0;34m,\u001b[0m \u001b[0;34m**\u001b[0m\u001b[0mkwds\u001b[0m \u001b[0;34m)\u001b[0m\u001b[0;34m\u001b[0m\u001b[0m\n\u001b[0m\u001b[1;32m    319\u001b[0m \u001b[0;34m\u001b[0m\u001b[0m\n\u001b[1;32m    320\u001b[0m \u001b[0m__builtin__\u001b[0m\u001b[0;34m.\u001b[0m\u001b[0m__import__\u001b[0m \u001b[0;34m=\u001b[0m \u001b[0m_importhook\u001b[0m\u001b[0;34m\u001b[0m\u001b[0m\n",
      "\u001b[0;32m/cvmfs/sft.cern.ch/lcg/views/LCG_92/x86_64-slc6-gcc62-opt/lib/python2.7/site-packages/sklearn/svm/classes.py\u001b[0m in \u001b[0;36m<module>\u001b[0;34m()\u001b[0m\n\u001b[1;32m      4\u001b[0m \u001b[0;32mfrom\u001b[0m \u001b[0;34m.\u001b[0m\u001b[0mbase\u001b[0m \u001b[0;32mimport\u001b[0m \u001b[0m_fit_liblinear\u001b[0m\u001b[0;34m,\u001b[0m \u001b[0mBaseSVC\u001b[0m\u001b[0;34m,\u001b[0m \u001b[0mBaseLibSVM\u001b[0m\u001b[0;34m\u001b[0m\u001b[0m\n\u001b[1;32m      5\u001b[0m \u001b[0;32mfrom\u001b[0m \u001b[0;34m.\u001b[0m\u001b[0;34m.\u001b[0m\u001b[0mbase\u001b[0m \u001b[0;32mimport\u001b[0m \u001b[0mBaseEstimator\u001b[0m\u001b[0;34m,\u001b[0m \u001b[0mRegressorMixin\u001b[0m\u001b[0;34m\u001b[0m\u001b[0m\n\u001b[0;32m----> 6\u001b[0;31m \u001b[0;32mfrom\u001b[0m \u001b[0;34m.\u001b[0m\u001b[0;34m.\u001b[0m\u001b[0mlinear_model\u001b[0m\u001b[0;34m.\u001b[0m\u001b[0mbase\u001b[0m \u001b[0;32mimport\u001b[0m \u001b[0mLinearClassifierMixin\u001b[0m\u001b[0;34m,\u001b[0m \u001b[0mSparseCoefMixin\u001b[0m\u001b[0;34m,\u001b[0m\u001b[0;31m \u001b[0m\u001b[0;31m\\\u001b[0m\u001b[0;34m\u001b[0m\u001b[0m\n\u001b[0m\u001b[1;32m      7\u001b[0m     \u001b[0mLinearModel\u001b[0m\u001b[0;34m\u001b[0m\u001b[0m\n\u001b[1;32m      8\u001b[0m \u001b[0;32mfrom\u001b[0m \u001b[0;34m.\u001b[0m\u001b[0;34m.\u001b[0m\u001b[0mfeature_selection\u001b[0m\u001b[0;34m.\u001b[0m\u001b[0mfrom_model\u001b[0m \u001b[0;32mimport\u001b[0m \u001b[0m_LearntSelectorMixin\u001b[0m\u001b[0;34m\u001b[0m\u001b[0m\n",
      "\u001b[0;32m/cvmfs/sft.cern.ch/lcg/views/LCG_92/x86_64-slc6-gcc62-opt/lib/ROOT.pyc\u001b[0m in \u001b[0;36m_importhook\u001b[0;34m(name, *args, **kwds)\u001b[0m\n\u001b[1;32m    316\u001b[0m       \u001b[0;32mexcept\u001b[0m \u001b[0mException\u001b[0m\u001b[0;34m:\u001b[0m\u001b[0;34m\u001b[0m\u001b[0m\n\u001b[1;32m    317\u001b[0m          \u001b[0;32mpass\u001b[0m\u001b[0;34m\u001b[0m\u001b[0m\n\u001b[0;32m--> 318\u001b[0;31m    \u001b[0;32mreturn\u001b[0m \u001b[0m_orig_ihook\u001b[0m\u001b[0;34m(\u001b[0m \u001b[0mname\u001b[0m\u001b[0;34m,\u001b[0m \u001b[0;34m*\u001b[0m\u001b[0margs\u001b[0m\u001b[0;34m,\u001b[0m \u001b[0;34m**\u001b[0m\u001b[0mkwds\u001b[0m \u001b[0;34m)\u001b[0m\u001b[0;34m\u001b[0m\u001b[0m\n\u001b[0m\u001b[1;32m    319\u001b[0m \u001b[0;34m\u001b[0m\u001b[0m\n\u001b[1;32m    320\u001b[0m \u001b[0m__builtin__\u001b[0m\u001b[0;34m.\u001b[0m\u001b[0m__import__\u001b[0m \u001b[0;34m=\u001b[0m \u001b[0m_importhook\u001b[0m\u001b[0;34m\u001b[0m\u001b[0m\n",
      "\u001b[0;32m/cvmfs/sft.cern.ch/lcg/views/LCG_92/x86_64-slc6-gcc62-opt/lib/python2.7/site-packages/sklearn/linear_model/__init__.py\u001b[0m in \u001b[0;36m<module>\u001b[0;34m()\u001b[0m\n\u001b[1;32m     15\u001b[0m from .least_angle import (Lars, LassoLars, lars_path, LarsCV, LassoLarsCV,\n\u001b[1;32m     16\u001b[0m                           LassoLarsIC)\n\u001b[0;32m---> 17\u001b[0;31m from .coordinate_descent import (Lasso, ElasticNet, LassoCV, ElasticNetCV,\n\u001b[0m\u001b[1;32m     18\u001b[0m                                  \u001b[0mlasso_path\u001b[0m\u001b[0;34m,\u001b[0m \u001b[0menet_path\u001b[0m\u001b[0;34m,\u001b[0m \u001b[0mMultiTaskLasso\u001b[0m\u001b[0;34m,\u001b[0m\u001b[0;34m\u001b[0m\u001b[0m\n\u001b[1;32m     19\u001b[0m                                  \u001b[0mMultiTaskElasticNet\u001b[0m\u001b[0;34m,\u001b[0m \u001b[0mMultiTaskElasticNetCV\u001b[0m\u001b[0;34m,\u001b[0m\u001b[0;34m\u001b[0m\u001b[0m\n",
      "\u001b[0;32m/cvmfs/sft.cern.ch/lcg/views/LCG_92/x86_64-slc6-gcc62-opt/lib/ROOT.pyc\u001b[0m in \u001b[0;36m_importhook\u001b[0;34m(name, *args, **kwds)\u001b[0m\n\u001b[1;32m    316\u001b[0m       \u001b[0;32mexcept\u001b[0m \u001b[0mException\u001b[0m\u001b[0;34m:\u001b[0m\u001b[0;34m\u001b[0m\u001b[0m\n\u001b[1;32m    317\u001b[0m          \u001b[0;32mpass\u001b[0m\u001b[0;34m\u001b[0m\u001b[0m\n\u001b[0;32m--> 318\u001b[0;31m    \u001b[0;32mreturn\u001b[0m \u001b[0m_orig_ihook\u001b[0m\u001b[0;34m(\u001b[0m \u001b[0mname\u001b[0m\u001b[0;34m,\u001b[0m \u001b[0;34m*\u001b[0m\u001b[0margs\u001b[0m\u001b[0;34m,\u001b[0m \u001b[0;34m**\u001b[0m\u001b[0mkwds\u001b[0m \u001b[0;34m)\u001b[0m\u001b[0;34m\u001b[0m\u001b[0m\n\u001b[0m\u001b[1;32m    319\u001b[0m \u001b[0;34m\u001b[0m\u001b[0m\n\u001b[1;32m    320\u001b[0m \u001b[0m__builtin__\u001b[0m\u001b[0;34m.\u001b[0m\u001b[0m__import__\u001b[0m \u001b[0;34m=\u001b[0m \u001b[0m_importhook\u001b[0m\u001b[0;34m\u001b[0m\u001b[0m\n",
      "\u001b[0;32m/cvmfs/sft.cern.ch/lcg/views/LCG_92/x86_64-slc6-gcc62-opt/lib/python2.7/site-packages/sklearn/linear_model/coordinate_descent.py\u001b[0m in \u001b[0;36m<module>\u001b[0;34m()\u001b[0m\n\u001b[1;32m     27\u001b[0m \u001b[0;32mfrom\u001b[0m \u001b[0;34m.\u001b[0m\u001b[0;34m.\u001b[0m\u001b[0mexceptions\u001b[0m \u001b[0;32mimport\u001b[0m \u001b[0mConvergenceWarning\u001b[0m\u001b[0;34m\u001b[0m\u001b[0m\n\u001b[1;32m     28\u001b[0m \u001b[0;34m\u001b[0m\u001b[0m\n\u001b[0;32m---> 29\u001b[0;31m \u001b[0;32mfrom\u001b[0m \u001b[0;34m.\u001b[0m \u001b[0;32mimport\u001b[0m \u001b[0mcd_fast\u001b[0m\u001b[0;34m\u001b[0m\u001b[0m\n\u001b[0m\u001b[1;32m     30\u001b[0m \u001b[0;34m\u001b[0m\u001b[0m\n\u001b[1;32m     31\u001b[0m \u001b[0;34m\u001b[0m\u001b[0m\n",
      "\u001b[0;31mImportError\u001b[0m: cannot import name cd_fast"
     ]
    }
   ],
   "source": [
    "from sklearn.svm import SVC"
   ]
  },
  {
   "cell_type": "code",
   "execution_count": null,
   "metadata": {
    "collapsed": true
   },
   "outputs": [],
   "source": []
  }
 ],
 "metadata": {
  "kernelspec": {
   "display_name": "Python 2",
   "language": "python",
   "name": "python2"
  },
  "language_info": {
   "codemirror_mode": {
    "name": "ipython",
    "version": 2
   },
   "file_extension": ".py",
   "mimetype": "text/x-python",
   "name": "python",
   "nbconvert_exporter": "python",
   "pygments_lexer": "ipython2",
   "version": "2.7.13"
  }
 },
 "nbformat": 4,
 "nbformat_minor": 0
}
