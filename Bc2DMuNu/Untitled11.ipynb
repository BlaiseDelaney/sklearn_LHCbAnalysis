{
 "cells": [
  {
   "cell_type": "code",
   "execution_count": 3,
   "metadata": {
    "collapsed": false
   },
   "outputs": [],
   "source": [
    "%matplotlib inline\n",
    "import ROOT"
   ]
  },
  {
   "cell_type": "code",
   "execution_count": 1,
   "metadata": {
    "collapsed": false
   },
   "outputs": [
    {
     "name": "stdout",
     "output_type": "stream",
     "text": [
      "Welcome to JupyROOT 6.12/04\n"
     ]
    }
   ],
   "source": [
    "from root_numpy import tree2array, root2array, rec2array\n",
    "import numpy as np\n",
    "\n",
    "\n",
    "from sklearn.model_selection import train_test_split, GridSearchCV\n",
    "from sklearn.tree import DecisionTreeClassifier\n",
    "from sklearn.ensemble import AdaBoostClassifier\n",
    "from sklearn.ensemble import GradientBoostingClassifier\n",
    "from sklearn.metrics import classification_report, roc_auc_score\n",
    "from sklearn.neural_network import MLPClassifier\n",
    "\n",
    "import matplotlib as mpl\n",
    "import matplotlib.pyplot as plt\n",
    "import pandas as pd\n",
    "import pandas.core.common as com\n",
    "from pandas.core.index import Index\n",
    "from pandas.tools import plotting\n"
   ]
  },
  {
   "cell_type": "code",
   "execution_count": 81,
   "metadata": {
    "collapsed": false
   },
   "outputs": [
    {
     "name": "stdout",
     "output_type": "stream",
     "text": [
      "\n",
      "--- Selected 856106 entries to read in from MC ---\n",
      "\n",
      "--- 16279 signal events and 839827 bkg events ---\n",
      "\n",
      "X (856106, 8)\n",
      "Dev (19195, 8) (19195,)\n",
      "Eval (12798, 8) (12798,)\n",
      "Train (308197, 8) (308197,)\n",
      "Test (205466, 8) (205466,)\n"
     ]
    }
   ],
   "source": [
    "#convert skimmed MC trees to numpy arrays\n",
    "MCdir = '/var/pcfst/r01/lhcb/delaney/Analysis/LHCbAnalysis/Bc2Dmunu/sub_jobs_MC_SB/'\n",
    "BkgMC='MCBu2DMuNu.root'\n",
    "SigMC='MCBc2DMuNu.root'\n",
    "\n",
    "bkgFile = ROOT.TFile(MCdir+BkgMC)\n",
    "sigFile = ROOT.TFile(MCdir+SigMC)\n",
    "\n",
    "bkgTree = bkgFile.Get('AnalysisTree')\n",
    "sigTree = sigFile.Get('AnalysisTree')\n",
    "\n",
    "\n",
    "#eventually load one tree and include itype selection\n",
    "Sevtmax=-1\n",
    "Bevtmax=-1\n",
    "\n",
    "\n",
    "#should rename with string manipulation\n",
    "#'B_plus_MCORRERR/B_plus_MCORR' bdt output correlated with MCORR\n",
    "branches=['TMath::Log(B_plus_PT)', \n",
    "'TMath::Log(B_plus_IPCHI2_OWNPV)', 'TMath::ACos(B_plus_DIRA_OWNPV)', 'B_plus_LTIME', 'TMath::Log(D0_PT)','TMath::Log(D0_IPCHI2_OWNPV)',\n",
    "'TMath::Log(Mu_plus_PT)', 'TMath::Log(Mu_plus_MIPCHI2PV)'] \n",
    "\n",
    "sigArray = tree2array(sigTree, branches, selection='B_plus_LTIME>0', start=0, stop=Sevtmax) \n",
    "sig=rec2array(sigArray)\n",
    "\n",
    "bkgArray = tree2array(bkgTree, branches, selection='B_plus_LTIME>0', start=0, stop=Bevtmax) \n",
    "bkg=rec2array(bkgArray)\n",
    "\n",
    "\n",
    "print '\\n--- Selected %i entries to read in from MC ---\\n'%(len(sig)+len(bkg))\n",
    "print '--- %s signal events and %s bkg events ---\\n'%(len(sig),len(bkg))\n",
    "\n",
    "\n",
    "#scikit learn requires 2D array (n_samples, n_features)\n",
    "X = np.concatenate((sig, bkg))\n",
    "y = np.concatenate((np.ones(sig.shape[0]),\n",
    "                    np.zeros(bkg.shape[0])))\n",
    "\n",
    "print 'X', X.shape\n",
    "print 'Dev', X_dev.shape, y_dev.shape\n",
    "print 'Eval', X_eval.shape, y_eval.shape\n",
    "print 'Train',X_train.shape, y_train.shape\n",
    "print 'Test',X_test.shape, y_test.shape"
   ]
  },
  {
   "cell_type": "code",
   "execution_count": 82,
   "metadata": {
    "collapsed": true
   },
   "outputs": [],
   "source": [
    "X_dev,X_eval, y_dev,y_eval = train_test_split(X, y, test_size=.4, random_state=23)\n",
    "#X_train,X_test, y_train,y_test = train_test_split(X_dev, y_dev, test_size=0.4, random_state=199)"
   ]
  },
  {
   "cell_type": "code",
   "execution_count": 26,
   "metadata": {
    "collapsed": false
   },
   "outputs": [],
   "source": [
    "results = {}\n",
    "\n",
    "def optimize_performance(clf, pars):\n",
    "    \n",
    "    def grid_search(clf, pars):\n",
    "        \n",
    "        grid = GridSearchCV(clf, \n",
    "                            param_grid=pars, \n",
    "                            n_jobs=-1, \n",
    "                            scoring='roc_auc',\n",
    "                            cv=3)\n",
    "        grid.fit(X_dev, y_dev)\n",
    "        return grid\n",
    "\n",
    "    grid=grid_search(clf, pars)\n",
    "     \n",
    "    print \"Best parameter set found on development set:\"\n",
    "    print\n",
    "    print grid.best_estimator_\n",
    "    print\n",
    "    print \"Grid scores on a subset of the development set:\"\n",
    "    print\n",
    "    for params, mean_score, scores in grid.grid_scores_:\n",
    "        print \"%0.4f (+/-%0.04f) for %r\"%(mean_score, scores.std(), params)\n",
    "    print\n",
    "    print \"With the model trained on the full development set:\"\n",
    "\n",
    "    y_true, y_pred = y_dev, grid.decision_function(X_dev)\n",
    "    print \"  It scores %0.4f on the full development set\"%roc_auc_score(y_true, y_pred)\n",
    "    y_true, y_pred = y_eval, grid.decision_function(X_eval)\n",
    "    print \"  It scores %0.4f on the full evaluation set\"%roc_auc_score(y_true, y_pred)\n",
    "  \n",
    "\n",
    "    #return grid.best_score_, grid.best_estimator_\n",
    "    results[grid.best_estimator_] = grid.best_score_\n",
    "    #clf = sorted(results.iteritems(), key=lambda (k,v): (v,k), reverse=True)[0][0]\n",
    "    \n",
    "    return grid.best_estimator_\n"
   ]
  },
  {
   "cell_type": "code",
   "execution_count": 27,
   "metadata": {
    "collapsed": false
   },
   "outputs": [
    {
     "name": "stdout",
     "output_type": "stream",
     "text": [
      "Best parameter set found on development set:\n",
      "\n",
      "GradientBoostingClassifier(criterion='friedman_mse', init=None,\n",
      "              learning_rate=0.2, loss='deviance', max_depth=8,\n",
      "              max_features=None, max_leaf_nodes=None,\n",
      "              min_impurity_split=1e-07, min_samples_leaf=1,\n",
      "              min_samples_split=2, min_weight_fraction_leaf=0.0,\n",
      "              n_estimators=1000, presort='auto', random_state=None,\n",
      "              subsample=1.0, verbose=0, warm_start=False)\n",
      "\n",
      "Grid scores on a subset of the development set:\n",
      "\n",
      "0.8164 (+/-0.0039) for {'n_estimators': 50, 'learning_rate': 0.1, 'max_depth': 1}\n",
      "0.8293 (+/-0.0025) for {'n_estimators': 200, 'learning_rate': 0.1, 'max_depth': 1}\n",
      "0.8357 (+/-0.0021) for {'n_estimators': 400, 'learning_rate': 0.1, 'max_depth': 1}\n",
      "0.8457 (+/-0.0017) for {'n_estimators': 1000, 'learning_rate': 0.1, 'max_depth': 1}\n",
      "0.8411 (+/-0.0022) for {'n_estimators': 50, 'learning_rate': 0.1, 'max_depth': 3}\n",
      "0.8707 (+/-0.0008) for {'n_estimators': 200, 'learning_rate': 0.1, 'max_depth': 3}\n",
      "0.8807 (+/-0.0008) for {'n_estimators': 400, 'learning_rate': 0.1, 'max_depth': 3}\n",
      "0.8912 (+/-0.0017) for {'n_estimators': 1000, 'learning_rate': 0.1, 'max_depth': 3}\n",
      "0.8830 (+/-0.0007) for {'n_estimators': 50, 'learning_rate': 0.1, 'max_depth': 8}\n",
      "0.9020 (+/-0.0006) for {'n_estimators': 200, 'learning_rate': 0.1, 'max_depth': 8}\n",
      "0.9092 (+/-0.0022) for {'n_estimators': 400, 'learning_rate': 0.1, 'max_depth': 8}\n",
      "0.9141 (+/-0.0017) for {'n_estimators': 1000, 'learning_rate': 0.1, 'max_depth': 8}\n",
      "0.8228 (+/-0.0031) for {'n_estimators': 50, 'learning_rate': 0.2, 'max_depth': 1}\n",
      "0.8359 (+/-0.0023) for {'n_estimators': 200, 'learning_rate': 0.2, 'max_depth': 1}\n",
      "0.8435 (+/-0.0019) for {'n_estimators': 400, 'learning_rate': 0.2, 'max_depth': 1}\n",
      "0.8565 (+/-0.0015) for {'n_estimators': 1000, 'learning_rate': 0.2, 'max_depth': 1}\n",
      "0.8583 (+/-0.0019) for {'n_estimators': 50, 'learning_rate': 0.2, 'max_depth': 3}\n",
      "0.8797 (+/-0.0007) for {'n_estimators': 200, 'learning_rate': 0.2, 'max_depth': 3}\n",
      "0.8880 (+/-0.0014) for {'n_estimators': 400, 'learning_rate': 0.2, 'max_depth': 3}\n",
      "0.8977 (+/-0.0012) for {'n_estimators': 1000, 'learning_rate': 0.2, 'max_depth': 3}\n",
      "0.8909 (+/-0.0015) for {'n_estimators': 50, 'learning_rate': 0.2, 'max_depth': 8}\n",
      "0.9047 (+/-0.0015) for {'n_estimators': 200, 'learning_rate': 0.2, 'max_depth': 8}\n",
      "0.9125 (+/-0.0013) for {'n_estimators': 400, 'learning_rate': 0.2, 'max_depth': 8}\n",
      "0.9154 (+/-0.0011) for {'n_estimators': 1000, 'learning_rate': 0.2, 'max_depth': 8}\n",
      "0.8367 (+/-0.0035) for {'n_estimators': 50, 'learning_rate': 1.0, 'max_depth': 1}\n",
      "0.8601 (+/-0.0027) for {'n_estimators': 200, 'learning_rate': 1.0, 'max_depth': 1}\n",
      "0.8717 (+/-0.0018) for {'n_estimators': 400, 'learning_rate': 1.0, 'max_depth': 1}\n",
      "0.8796 (+/-0.0021) for {'n_estimators': 1000, 'learning_rate': 1.0, 'max_depth': 1}\n",
      "0.8645 (+/-0.0022) for {'n_estimators': 50, 'learning_rate': 1.0, 'max_depth': 3}\n",
      "0.8693 (+/-0.0020) for {'n_estimators': 200, 'learning_rate': 1.0, 'max_depth': 3}\n",
      "0.8760 (+/-0.0018) for {'n_estimators': 400, 'learning_rate': 1.0, 'max_depth': 3}\n",
      "0.8889 (+/-0.0028) for {'n_estimators': 1000, 'learning_rate': 1.0, 'max_depth': 3}\n",
      "0.8687 (+/-0.0042) for {'n_estimators': 50, 'learning_rate': 1.0, 'max_depth': 8}\n",
      "0.8990 (+/-0.0016) for {'n_estimators': 200, 'learning_rate': 1.0, 'max_depth': 8}\n",
      "0.8997 (+/-0.0033) for {'n_estimators': 400, 'learning_rate': 1.0, 'max_depth': 8}\n",
      "0.8996 (+/-0.0017) for {'n_estimators': 1000, 'learning_rate': 1.0, 'max_depth': 8}\n",
      "\n",
      "With the model trained on the full development set:\n"
     ]
    },
    {
     "name": "stderr",
     "output_type": "stream",
     "text": [
      "/cvmfs/sft.cern.ch/lcg/views/LCG_92/x86_64-slc6-gcc62-opt/lib/python2.7/site-packages/sklearn/model_selection/_search.py:667: DeprecationWarning: The grid_scores_ attribute was deprecated in version 0.18 in favor of the more elaborate cv_results_ attribute. The grid_scores_ attribute will not be available from 0.20\n",
      "  DeprecationWarning)\n"
     ]
    },
    {
     "name": "stdout",
     "output_type": "stream",
     "text": [
      "  It scores 1.0000 on the full development set\n",
      "  It scores 0.9379 on the full evaluation set\n"
     ]
    }
   ],
   "source": [
    "gbt = GradientBoostingClassifier() #defaults\n",
    "gbt_param_grid = {\"n_estimators\": [50,200,400,1000],\n",
    "                  \"max_depth\": [1, 3, 8],\n",
    "                  'learning_rate': [0.1, 0.2, 1.]}\n",
    "\n",
    "gbt=optimize_performance(gbt, gbt_param_grid)"
   ]
  },
  {
   "cell_type": "code",
   "execution_count": 37,
   "metadata": {
    "collapsed": false
   },
   "outputs": [
    {
     "data": {
      "text/plain": [
       "GradientBoostingClassifier(criterion='friedman_mse', init=None,\n",
       "              learning_rate=0.2, loss='deviance', max_depth=8,\n",
       "              max_features=None, max_leaf_nodes=None,\n",
       "              min_impurity_split=1e-07, min_samples_leaf=1,\n",
       "              min_samples_split=2, min_weight_fraction_leaf=0.0,\n",
       "              n_estimators=1000, presort='auto', random_state=None,\n",
       "              subsample=1.0, verbose=0, warm_start=False)"
      ]
     },
     "execution_count": 37,
     "metadata": {},
     "output_type": "execute_result"
    }
   ],
   "source": [
    "gbt = GradientBoostingClassifier(criterion='friedman_mse', init=None,\n",
    "              learning_rate=0.2, loss='deviance', max_depth=8,\n",
    "              max_features=None, max_leaf_nodes=None,\n",
    "              min_impurity_split=1e-07, min_samples_leaf=1,\n",
    "              min_samples_split=2, min_weight_fraction_leaf=0.0,\n",
    "              n_estimators=1000, presort='auto', random_state=None,\n",
    "              subsample=1.0, verbose=0, warm_start=False)\n",
    "gbt.fit(X_dev, y_dev)"
   ]
  },
  {
   "cell_type": "code",
   "execution_count": 28,
   "metadata": {
    "collapsed": false
   },
   "outputs": [
    {
     "name": "stdout",
     "output_type": "stream",
     "text": [
      "             precision    recall  f1-score   support\n",
      "\n",
      " background       0.89      0.81      0.85      6442\n",
      "     signal       0.82      0.90      0.86      6356\n",
      "\n",
      "avg / total       0.85      0.85      0.85     12798\n",
      "\n",
      "Area under ROC curve: 0.9379\n"
     ]
    }
   ],
   "source": [
    "gbty_predicted = gbt.predict(X_eval)\n",
    "print classification_report(y_eval, gbty_predicted,\n",
    "                                    target_names=[\"background\", \"signal\"])\n",
    "print \"Area under ROC curve: %.4f\"%(roc_auc_score(y_eval, gbt.decision_function(X_eval)))"
   ]
  },
  {
   "cell_type": "code",
   "execution_count": 85,
   "metadata": {
    "collapsed": false
   },
   "outputs": [
    {
     "name": "stdout",
     "output_type": "stream",
     "text": [
      "GradientBoostingClassifier(criterion='friedman_mse', init=None,\n",
      "              learning_rate=0.2, loss='deviance', max_depth=8,\n",
      "              max_features=None, max_leaf_nodes=None,\n",
      "              min_impurity_split=1e-07, min_samples_leaf=1,\n",
      "              min_samples_split=2, min_weight_fraction_leaf=0.0,\n",
      "              n_estimators=1000, presort='auto', random_state=None,\n",
      "              subsample=1.0, verbose=0, warm_start=False)\n"
     ]
    },
    {
     "data": {
      "image/png": "[encoded data removed]",
      "text/plain": [
       "<matplotlib.figure.Figure at 0x7ff0137507d0>"
      ]
     },
     "metadata": {},
     "output_type": "display_data"
    }
   ],
   "source": [
    "#check for overtraining, take pars from K-CV\n",
    "print gbt\n",
    "\n",
    "clfs=[]\n",
    "\n",
    "depth=8\n",
    "learn=.2\n",
    "\n",
    "\n",
    "clf=gbt\n",
    "clfs.append(clf)\n",
    "\n",
    "def validation_curve(clfs, train, test):\n",
    "    X_eval, y_eval = test\n",
    "    X_dev, y_dev = train\n",
    "    \n",
    "    for n,clf in enumerate(clfs):\n",
    "        test_score = np.empty(len(clf.estimators_))\n",
    "        train_score = np.empty(len(clf.estimators_))\n",
    "\n",
    "        for i, pred in enumerate(clf.staged_decision_function(X_eval)):\n",
    "            test_score[i] = 1-roc_auc_score(y_eval, pred)\n",
    "\n",
    "        for i, pred in enumerate(clf.staged_decision_function(X_dev)):\n",
    "            train_score[i] = 1-roc_auc_score(y_dev, pred)\n",
    "\n",
    "        best_iter = np.argmin(test_score)\n",
    "        learn = clf.get_params()['learning_rate']\n",
    "        depth = clf.get_params()['max_depth']\n",
    "        test_line = plt.plot(test_score,\n",
    "                             label='learn=%.1f depth=%i (ROC score = %.2f)'%(learn,depth,\n",
    "                                                                 test_score[best_iter]))\n",
    "\n",
    "        colour = test_line[-1].get_color()\n",
    "        plt.plot(train_score, '--', color=colour)\n",
    "        \n",
    "        plt.xlabel(\"Number of boosting iterations\")\n",
    "        plt.ylabel(\"1 - area under ROC\")\n",
    "        plt.axvline(x=best_iter, color=colour)\n",
    "        plt.savefig('allrunlearn.pdf')\n",
    "        \n",
    "    plt.legend(loc='best')\n",
    "    plt.show()\n",
    "\n",
    "validation_curve(clfs,\n",
    "            (X_dev,y_dev),\n",
    "            (X_eval,y_eval))"
   ]
  },
  {
   "cell_type": "code",
   "execution_count": 69,
   "metadata": {
    "collapsed": false
   },
   "outputs": [
    {
     "name": "stdout",
     "output_type": "stream",
     "text": [
      "(19195, 8) (19195,)\n",
      "(12798, 8) (12798,)\n"
     ]
    },
    {
     "data": {
      "image/png": "[encoded data removed]",
      "text/plain": [
       "<matplotlib.figure.Figure at 0x7ff0134b3110>"
      ]
     },
     "metadata": {},
     "output_type": "display_data"
    }
   ],
   "source": [
    "\n",
    "\n",
    "def compare_train_test(clf, X_dev, y_dev, X_eval, y_eval, bins=50):\n",
    "    decisions = []\n",
    "    for X,y in ((X_dev, y_dev), (X_eval, y_eval)):\n",
    "        print X.shape, y.shape\n",
    "        d1 = clf.predict(X[y==1]).ravel()\n",
    "        d2 = clf.predict(X[y==0]).ravel()\n",
    "        decisions += [d1, d2]\n",
    "        \n",
    "    low = min(np.min(d) for d in decisions)\n",
    "    high = max(np.max(d) for d in decisions)\n",
    "    low_high = (low,high)\n",
    "    \n",
    "    plt.hist(decisions[0],\n",
    "             color='r', alpha=0.5, range=low_high, bins=bins,\n",
    "             histtype='stepfilled', normed=True,\n",
    "             label='S (train)')\n",
    "    plt.hist(decisions[1],\n",
    "             color='b', alpha=0.5, range=low_high, bins=bins,\n",
    "             histtype='stepfilled', normed=True,\n",
    "             label='B (train)')\n",
    "\n",
    "    hist, bins = np.histogram(decisions[2],\n",
    "                              bins=bins, range=low_high, normed=True)\n",
    "    scale = len(decisions[2]) / sum(hist)\n",
    "    err = np.sqrt(hist * scale) / scale\n",
    "    \n",
    "    width = (bins[1] - bins[0])\n",
    "    center = (bins[:-1] + bins[1:]) / 2\n",
    "    plt.errorbar(center, hist, yerr=err, fmt='o', c='r', label='S (test)')\n",
    "    \n",
    "    hist, bins = np.histogram(decisions[3],\n",
    "                              bins=bins, range=low_high, normed=True)\n",
    "    scale = len(decisions[2]) / sum(hist)\n",
    "    err = np.sqrt(hist * scale) / scale\n",
    "\n",
    "    plt.errorbar(center, hist, yerr=err, fmt='o', c='b', label='B (test)')\n",
    "\n",
    "    plt.xlabel(\"BDT output\")\n",
    "    plt.ylabel(\"Arbitrary units\")\n",
    "    plt.legend(loc='best')\n",
    "    plt.savefig('randomPLEASE_gbtoutput.pdf')\n",
    "\n",
    "compare_train_test(gbt, X_dev, y_dev, X_eval, y_eval)"
   ]
  },
  {
   "cell_type": "code",
   "execution_count": 84,
   "metadata": {
    "collapsed": false
   },
   "outputs": [
    {
     "data": {
      "image/png": "[encoded data removed]",
      "text/plain": [
       "<matplotlib.figure.Figure at 0x7ff0086e2b50>"
      ]
     },
     "metadata": {},
     "output_type": "display_data"
    },
    {
     "data": {
      "text/plain": [
       "<matplotlib.figure.Figure at 0x7ff0136efe50>"
      ]
     },
     "metadata": {},
     "output_type": "display_data"
    }
   ],
   "source": [
    "from sklearn.metrics import roc_curve, auc\n",
    "\n",
    "decisions = gbt.decision_function(X_eval)\n",
    "# Compute ROC curve and area under the curve\n",
    "fpr, tpr, thresholds = roc_curve(y_eval, decisions)\n",
    "roc_auc = auc(fpr, tpr)\n",
    "\n",
    "plt.plot(fpr, tpr, lw=1, label='ROC (area = %0.2f)'%(roc_auc))\n",
    "\n",
    "plt.plot([0, 1], [0, 1], '--', color=(0.6, 0.6, 0.6), label='Luck')\n",
    "plt.xlim([-0.05, 1.05])\n",
    "plt.ylim([-0.05, 1.05])\n",
    "plt.xlabel('False Positive Rate')\n",
    "plt.ylabel('True Positive Rate')\n",
    "plt.title('Receiver operating characteristic')\n",
    "plt.legend(loc=\"lower right\")\n",
    "plt.show()\n",
    "plt.savefig('gbt_roc.pdf')"
   ]
  },
  {
   "cell_type": "code",
   "execution_count": 46,
   "metadata": {
    "collapsed": false
   },
   "outputs": [
    {
     "name": "stdout",
     "output_type": "stream",
     "text": [
      "             precision    recall  f1-score   support\n",
      "\n",
      " background       1.00      0.83      0.90    335862\n",
      "     signal       0.10      0.96      0.18      6581\n",
      "\n",
      "avg / total       0.98      0.83      0.89    342443\n",
      "\n",
      "Area under ROC curve: 0.9717\n"
     ]
    }
   ],
   "source": [
    "y_predicted = gbt.predict(X_eval)\n",
    "print classification_report(y_eval, y_predicted,\n",
    "                            target_names=[\"background\", \"signal\"])\n",
    "print \"Area under ROC curve: %.4f\"%(roc_auc_score(y_eval,\n",
    "                                                  gbt.decision_function(X_eval)))"
   ]
  },
  {
   "cell_type": "code",
   "execution_count": 82,
   "metadata": {
    "collapsed": false
   },
   "outputs": [
    {
     "ename": "KeyboardInterrupt",
     "evalue": "",
     "output_type": "error",
     "traceback": [
      "\u001b[0;31m\u001b[0m",
      "\u001b[0;31mKeyboardInterrupt\u001b[0mTraceback (most recent call last)",
      "\u001b[0;32m<ipython-input-82-53caf259d769>\u001b[0m in \u001b[0;36m<module>\u001b[0;34m()\u001b[0m\n\u001b[1;32m      5\u001b[0m                  'algorithm': [\"SAMME\", \"SAMME.R\"]}\n\u001b[1;32m      6\u001b[0m \u001b[0;34m\u001b[0m\u001b[0m\n\u001b[0;32m----> 7\u001b[0;31m \u001b[0mbdt\u001b[0m \u001b[0;34m=\u001b[0m \u001b[0moptimize_performance\u001b[0m\u001b[0;34m(\u001b[0m\u001b[0mbdt\u001b[0m\u001b[0;34m,\u001b[0m \u001b[0mbdt_param_grid\u001b[0m\u001b[0;34m)\u001b[0m\u001b[0;34m\u001b[0m\u001b[0m\n\u001b[0m",
      "\u001b[0;32m<ipython-input-76-720febd4afe9>\u001b[0m in \u001b[0;36moptimize_performance\u001b[0;34m(clf, pars)\u001b[0m\n\u001b[1;32m     13\u001b[0m         \u001b[0;32mreturn\u001b[0m \u001b[0mgrid\u001b[0m\u001b[0;34m\u001b[0m\u001b[0m\n\u001b[1;32m     14\u001b[0m \u001b[0;34m\u001b[0m\u001b[0m\n\u001b[0;32m---> 15\u001b[0;31m     \u001b[0mgrid\u001b[0m\u001b[0;34m=\u001b[0m\u001b[0mgrid_search\u001b[0m\u001b[0;34m(\u001b[0m\u001b[0mclf\u001b[0m\u001b[0;34m,\u001b[0m \u001b[0mpars\u001b[0m\u001b[0;34m)\u001b[0m\u001b[0;34m\u001b[0m\u001b[0m\n\u001b[0m\u001b[1;32m     16\u001b[0m \u001b[0;34m\u001b[0m\u001b[0m\n\u001b[1;32m     17\u001b[0m     \u001b[0;32mprint\u001b[0m \u001b[0;34m\"Best parameter set found on development set:\"\u001b[0m\u001b[0;34m\u001b[0m\u001b[0m\n",
      "\u001b[0;32m<ipython-input-76-720febd4afe9>\u001b[0m in \u001b[0;36mgrid_search\u001b[0;34m(clf, pars)\u001b[0m\n\u001b[1;32m     10\u001b[0m                             \u001b[0mscoring\u001b[0m\u001b[0;34m=\u001b[0m\u001b[0;34m'roc_auc'\u001b[0m\u001b[0;34m,\u001b[0m\u001b[0;34m\u001b[0m\u001b[0m\n\u001b[1;32m     11\u001b[0m                             cv=3)\n\u001b[0;32m---> 12\u001b[0;31m         \u001b[0mgrid\u001b[0m\u001b[0;34m.\u001b[0m\u001b[0mfit\u001b[0m\u001b[0;34m(\u001b[0m\u001b[0mX_dev\u001b[0m\u001b[0;34m,\u001b[0m \u001b[0my_dev\u001b[0m\u001b[0;34m)\u001b[0m\u001b[0;34m\u001b[0m\u001b[0m\n\u001b[0m\u001b[1;32m     13\u001b[0m         \u001b[0;32mreturn\u001b[0m \u001b[0mgrid\u001b[0m\u001b[0;34m\u001b[0m\u001b[0m\n\u001b[1;32m     14\u001b[0m \u001b[0;34m\u001b[0m\u001b[0m\n",
      "\u001b[0;32m/cvmfs/sft.cern.ch/lcg/views/LCG_92/x86_64-slc6-gcc62-opt/lib/python2.7/site-packages/sklearn/model_selection/_search.pyc\u001b[0m in \u001b[0;36mfit\u001b[0;34m(self, X, y, groups)\u001b[0m\n\u001b[1;32m    943\u001b[0m             \u001b[0mtrain\u001b[0m\u001b[0;34m/\u001b[0m\u001b[0mtest\u001b[0m \u001b[0mset\u001b[0m\u001b[0;34m.\u001b[0m\u001b[0;34m\u001b[0m\u001b[0m\n\u001b[1;32m    944\u001b[0m         \"\"\"\n\u001b[0;32m--> 945\u001b[0;31m         \u001b[0;32mreturn\u001b[0m \u001b[0mself\u001b[0m\u001b[0;34m.\u001b[0m\u001b[0m_fit\u001b[0m\u001b[0;34m(\u001b[0m\u001b[0mX\u001b[0m\u001b[0;34m,\u001b[0m \u001b[0my\u001b[0m\u001b[0;34m,\u001b[0m \u001b[0mgroups\u001b[0m\u001b[0;34m,\u001b[0m \u001b[0mParameterGrid\u001b[0m\u001b[0;34m(\u001b[0m\u001b[0mself\u001b[0m\u001b[0;34m.\u001b[0m\u001b[0mparam_grid\u001b[0m\u001b[0;34m)\u001b[0m\u001b[0;34m)\u001b[0m\u001b[0;34m\u001b[0m\u001b[0m\n\u001b[0m\u001b[1;32m    946\u001b[0m \u001b[0;34m\u001b[0m\u001b[0m\n\u001b[1;32m    947\u001b[0m \u001b[0;34m\u001b[0m\u001b[0m\n",
      "\u001b[0;32m/cvmfs/sft.cern.ch/lcg/views/LCG_92/x86_64-slc6-gcc62-opt/lib/python2.7/site-packages/sklearn/model_selection/_search.pyc\u001b[0m in \u001b[0;36m_fit\u001b[0;34m(self, X, y, groups, parameter_iterable)\u001b[0m\n\u001b[1;32m    562\u001b[0m                                   \u001b[0mreturn_times\u001b[0m\u001b[0;34m=\u001b[0m\u001b[0mTrue\u001b[0m\u001b[0;34m,\u001b[0m \u001b[0mreturn_parameters\u001b[0m\u001b[0;34m=\u001b[0m\u001b[0mTrue\u001b[0m\u001b[0;34m,\u001b[0m\u001b[0;34m\u001b[0m\u001b[0m\n\u001b[1;32m    563\u001b[0m                                   error_score=self.error_score)\n\u001b[0;32m--> 564\u001b[0;31m           \u001b[0;32mfor\u001b[0m \u001b[0mparameters\u001b[0m \u001b[0;32min\u001b[0m \u001b[0mparameter_iterable\u001b[0m\u001b[0;34m\u001b[0m\u001b[0m\n\u001b[0m\u001b[1;32m    565\u001b[0m           for train, test in cv_iter)\n\u001b[1;32m    566\u001b[0m \u001b[0;34m\u001b[0m\u001b[0m\n",
      "\u001b[0;32m/cvmfs/sft.cern.ch/lcg/views/LCG_92/x86_64-slc6-gcc62-opt/lib/python2.7/site-packages/sklearn/externals/joblib/parallel.pyc\u001b[0m in \u001b[0;36m__call__\u001b[0;34m(self, iterable)\u001b[0m\n\u001b[1;32m    766\u001b[0m                 \u001b[0;31m# consumption.\u001b[0m\u001b[0;34m\u001b[0m\u001b[0;34m\u001b[0m\u001b[0m\n\u001b[1;32m    767\u001b[0m                 \u001b[0mself\u001b[0m\u001b[0;34m.\u001b[0m\u001b[0m_iterating\u001b[0m \u001b[0;34m=\u001b[0m \u001b[0mFalse\u001b[0m\u001b[0;34m\u001b[0m\u001b[0m\n\u001b[0;32m--> 768\u001b[0;31m             \u001b[0mself\u001b[0m\u001b[0;34m.\u001b[0m\u001b[0mretrieve\u001b[0m\u001b[0;34m(\u001b[0m\u001b[0;34m)\u001b[0m\u001b[0;34m\u001b[0m\u001b[0m\n\u001b[0m\u001b[1;32m    769\u001b[0m             \u001b[0;31m# Make sure that we get a last message telling us we are done\u001b[0m\u001b[0;34m\u001b[0m\u001b[0;34m\u001b[0m\u001b[0m\n\u001b[1;32m    770\u001b[0m             \u001b[0melapsed_time\u001b[0m \u001b[0;34m=\u001b[0m \u001b[0mtime\u001b[0m\u001b[0;34m.\u001b[0m\u001b[0mtime\u001b[0m\u001b[0;34m(\u001b[0m\u001b[0;34m)\u001b[0m \u001b[0;34m-\u001b[0m \u001b[0mself\u001b[0m\u001b[0;34m.\u001b[0m\u001b[0m_start_time\u001b[0m\u001b[0;34m\u001b[0m\u001b[0m\n",
      "\u001b[0;32m/cvmfs/sft.cern.ch/lcg/views/LCG_92/x86_64-slc6-gcc62-opt/lib/python2.7/site-packages/sklearn/externals/joblib/parallel.pyc\u001b[0m in \u001b[0;36mretrieve\u001b[0;34m(self)\u001b[0m\n\u001b[1;32m    717\u001b[0m                     \u001b[0mensure_ready\u001b[0m \u001b[0;34m=\u001b[0m \u001b[0mself\u001b[0m\u001b[0;34m.\u001b[0m\u001b[0m_managed_backend\u001b[0m\u001b[0;34m\u001b[0m\u001b[0m\n\u001b[1;32m    718\u001b[0m                     \u001b[0mbackend\u001b[0m\u001b[0;34m.\u001b[0m\u001b[0mabort_everything\u001b[0m\u001b[0;34m(\u001b[0m\u001b[0mensure_ready\u001b[0m\u001b[0;34m=\u001b[0m\u001b[0mensure_ready\u001b[0m\u001b[0;34m)\u001b[0m\u001b[0;34m\u001b[0m\u001b[0m\n\u001b[0;32m--> 719\u001b[0;31m                 \u001b[0;32mraise\u001b[0m \u001b[0mexception\u001b[0m\u001b[0;34m\u001b[0m\u001b[0m\n\u001b[0m\u001b[1;32m    720\u001b[0m \u001b[0;34m\u001b[0m\u001b[0m\n\u001b[1;32m    721\u001b[0m     \u001b[0;32mdef\u001b[0m \u001b[0m__call__\u001b[0m\u001b[0;34m(\u001b[0m\u001b[0mself\u001b[0m\u001b[0;34m,\u001b[0m \u001b[0miterable\u001b[0m\u001b[0;34m)\u001b[0m\u001b[0;34m:\u001b[0m\u001b[0;34m\u001b[0m\u001b[0m\n",
      "\u001b[0;31mKeyboardInterrupt\u001b[0m: "
     ]
    }
   ],
   "source": [
    "dt = DecisionTreeClassifier(max_depth=3) #if max_depth=None, nodes expanded until leaves are pure\n",
    "bdt = AdaBoostClassifier(base_estimator=dt)\n",
    "bdt_param_grid ={'n_estimators': [10, 30, 50,100, 200, 500, 800, 1000],\n",
    "                 'learning_rate': [.1, .2, .5],\n",
    "                 'algorithm': [\"SAMME\", \"SAMME.R\"]}\n",
    "\n",
    "bdt = optimize_performance(bdt, bdt_param_grid)\n"
   ]
  },
  {
   "cell_type": "code",
   "execution_count": null,
   "metadata": {
    "collapsed": false
   },
   "outputs": [],
   "source": [
    "def compare_train_test(clf, X_dev, y_dev, X_eval, y_eval, bins=50):\n",
    "    decisions = []\n",
    "    for X,y in ((X_dev, y_dev), (X_eval, y_eval)):\n",
    "        d1 = clf.decision_function(X[y>0.5]).ravel()\n",
    "        d2 = clf.decision_function(X[y<0.5]).ravel()\n",
    "        decisions += [d1, d2]\n",
    "        \n",
    "    low = min(np.min(d) for d in decisions)\n",
    "    high = max(np.max(d) for d in decisions)\n",
    "    low_high = (low,high)\n",
    "    \n",
    "    plt.hist(decisions[0],\n",
    "             color='r', alpha=0.5, range=low_high, bins=bins,\n",
    "             histtype='stepfilled', normed=True,\n",
    "             label='S (train)')\n",
    "    plt.hist(decisions[1],\n",
    "             color='b', alpha=0.5, range=low_high, bins=bins,\n",
    "             histtype='stepfilled', normed=True,\n",
    "             label='B (train)')\n",
    "\n",
    "    hist, bins = np.histogram(decisions[2],\n",
    "                              bins=bins, range=low_high, normed=True)\n",
    "    scale = len(decisions[2]) / sum(hist)\n",
    "    err = np.sqrt(hist * scale) / scale\n",
    "    \n",
    "    width = (bins[1] - bins[0])\n",
    "    center = (bins[:-1] + bins[1:]) / 2\n",
    "    plt.errorbar(center, hist, yerr=err, fmt='o', c='r', label='S (test)')\n",
    "    \n",
    "    hist, bins = np.histogram(decisions[3],\n",
    "                              bins=bins, range=low_high, normed=True)\n",
    "    scale = len(decisions[2]) / sum(hist)\n",
    "    err = np.sqrt(hist * scale) / scale\n",
    "\n",
    "    plt.errorbar(center, hist, yerr=err, fmt='o', c='b', label='B (test)')\n",
    "\n",
    "    plt.xlabel(\"BDT output\")\n",
    "    plt.ylabel(\"Arbitrary units\")\n",
    "    plt.legend(loc='best')\n",
    "    plt.savefig('futurerun_gbt_FULLSAMPLE_novalidation_bdtoutput.pdf')\n",
    "\n",
    "compare_train_test(bdt, X_dev, y_dev, X_eval, y_eval)"
   ]
  },
  {
   "cell_type": "code",
   "execution_count": 72,
   "metadata": {
    "collapsed": false
   },
   "outputs": [
    {
     "ename": "IndexError",
     "evalue": "boolean index did not match indexed array along dimension 0; dimension is 10 but corresponding boolean dimension is 31993",
     "output_type": "error",
     "traceback": [
      "\u001b[0;31m\u001b[0m",
      "\u001b[0;31mIndexError\u001b[0mTraceback (most recent call last)",
      "\u001b[0;32m<ipython-input-72-d828e29779f2>\u001b[0m in \u001b[0;36m<module>\u001b[0;34m()\u001b[0m\n\u001b[1;32m      1\u001b[0m \u001b[0mcheck\u001b[0m\u001b[0;34m=\u001b[0m\u001b[0mnp\u001b[0m\u001b[0;34m.\u001b[0m\u001b[0marange\u001b[0m\u001b[0;34m(\u001b[0m\u001b[0;36m10\u001b[0m\u001b[0;34m)\u001b[0m\u001b[0;34m\u001b[0m\u001b[0m\n\u001b[0;32m----> 2\u001b[0;31m \u001b[0;32mprint\u001b[0m \u001b[0mcheck\u001b[0m\u001b[0;34m[\u001b[0m\u001b[0my\u001b[0m\u001b[0;34m>\u001b[0m\u001b[0;36m0.5\u001b[0m\u001b[0;34m]\u001b[0m\u001b[0;34m\u001b[0m\u001b[0m\n\u001b[0m",
      "\u001b[0;31mIndexError\u001b[0m: boolean index did not match indexed array along dimension 0; dimension is 10 but corresponding boolean dimension is 31993"
     ]
    }
   ],
   "source": []
  },
  {
   "cell_type": "code",
   "execution_count": null,
   "metadata": {
    "collapsed": true
   },
   "outputs": [],
   "source": []
  },
  {
   "cell_type": "code",
   "execution_count": null,
   "metadata": {
    "collapsed": true
   },
   "outputs": [],
   "source": []
  }
 ],
 "metadata": {
  "kernelspec": {
   "display_name": "Python 2",
   "language": "python",
   "name": "python2"
  },
  "language_info": {
   "codemirror_mode": {
    "name": "ipython",
    "version": 2
   },
   "file_extension": ".py",
   "mimetype": "text/x-python",
   "name": "python",
   "nbconvert_exporter": "python",
   "pygments_lexer": "ipython2",
   "version": "2.7.13"
  }
 },
 "nbformat": 4,
 "nbformat_minor": 0
}
